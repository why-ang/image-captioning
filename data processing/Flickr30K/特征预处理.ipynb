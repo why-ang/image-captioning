{
 "cells": [
  {
   "cell_type": "code",
   "execution_count": 1,
   "metadata": {},
   "outputs": [],
   "source": [
    "import numpy as np\n",
    "import os\n",
    "import torch\n",
    "from tqdm import tqdm\n",
    "\n"
   ]
  },
  {
   "cell_type": "code",
   "execution_count": 2,
   "metadata": {},
   "outputs": [],
   "source": [
    "file_path = '/home/sdb1/why/data/data/f30k_precomp/'"
   ]
  },
  {
   "cell_type": "code",
   "execution_count": 3,
   "metadata": {},
   "outputs": [
    {
     "name": "stderr",
     "output_type": "stream",
     "text": [
      "5070it [00:00, 1205574.08it/s]\n",
      "29000it [00:00, 1116038.61it/s]\n",
      "5000it [00:00, 1033079.80it/s]\n"
     ]
    }
   ],
   "source": [
    "out = {}\n",
    "def transform(id_file, feat_file):\n",
    "    ids = open(id_file, 'r').readlines()\n",
    "    ids = [_.strip('\\n') for _ in ids]\n",
    "    feats = np.load(feat_file)\n",
    "    assert feats.shape[0] == len(ids)\n",
    "    for _id, _feat in tqdm(zip(ids, feats)):\n",
    "        out[str(_id)] = _feat\n",
    "\n",
    "transform(file_path+'dev_ids.txt', file_path+'dev_ims.npy')\n",
    "transform(file_path+'train_ids.txt', file_path+'train_ims.npy')\n",
    "transform(file_path+'test_ids.txt', file_path+'test_ims.npy')\n",
    "\n",
    "torch.save(out, '/home/sdb1/why/data/f30kbu_att.pth')"
   ]
  },
  {
   "cell_type": "code",
   "execution_count": null,
   "metadata": {},
   "outputs": [],
   "source": []
  },
  {
   "cell_type": "code",
   "execution_count": null,
   "metadata": {},
   "outputs": [],
   "source": []
  }
 ],
 "metadata": {
  "kernelspec": {
   "display_name": "Python 3",
   "language": "python",
   "name": "python3"
  },
  "language_info": {
   "codemirror_mode": {
    "name": "ipython",
    "version": 3
   },
   "file_extension": ".py",
   "mimetype": "text/x-python",
   "name": "python",
   "nbconvert_exporter": "python",
   "pygments_lexer": "ipython3",
   "version": "3.6.8"
  }
 },
 "nbformat": 4,
 "nbformat_minor": 2
}
