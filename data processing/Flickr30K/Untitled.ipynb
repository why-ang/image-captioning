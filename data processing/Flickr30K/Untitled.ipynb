{
 "cells": [
  {
   "cell_type": "code",
   "execution_count": 4,
   "metadata": {},
   "outputs": [],
   "source": [
    "import json\n",
    "\n",
    "coco_caption_path = \"/home/why/data/caption/dataset_flickr30k.json\"\n",
    "\n",
    "with open(coco_caption_path,'r') as j:\n",
    "    captions = json.load(j)"
   ]
  },
  {
   "cell_type": "code",
   "execution_count": null,
   "metadata": {},
   "outputs": [],
   "source": []
  },
  {
   "cell_type": "code",
   "execution_count": 5,
   "metadata": {},
   "outputs": [],
   "source": [
    "all_document = []\n",
    "\n",
    "for i in captions[\"images\"]:\n",
    "    d = {}\n",
    "    d['name'] = i['filename']\n",
    "    caps = []\n",
    "    for j in i['sentences']:\n",
    "        caps.append(j['raw'])\n",
    "    caps = ' '.join(caps)\n",
    "    d['document'] = caps\n",
    "    all_document.append(d)"
   ]
  },
  {
   "cell_type": "code",
   "execution_count": 6,
   "metadata": {},
   "outputs": [
    {
     "data": {
      "text/plain": [
       "31014"
      ]
     },
     "execution_count": 6,
     "metadata": {},
     "output_type": "execute_result"
    }
   ],
   "source": [
    "len(all_document)"
   ]
  },
  {
   "cell_type": "code",
   "execution_count": 7,
   "metadata": {},
   "outputs": [],
   "source": [
    "with open('flick_30_all_documents.json','w') as j:\n",
    "    json.dump(all_document,j)"
   ]
  },
  {
   "cell_type": "code",
   "execution_count": 8,
   "metadata": {},
   "outputs": [],
   "source": [
    "image_name = []\n",
    "documents = []\n",
    "for i in all_document:\n",
    "    image_name.append(i['name'])\n",
    "    documents.append(i['document'])"
   ]
  },
  {
   "cell_type": "code",
   "execution_count": 10,
   "metadata": {},
   "outputs": [
    {
     "data": {
      "text/plain": [
       "31014"
      ]
     },
     "execution_count": 10,
     "metadata": {},
     "output_type": "execute_result"
    }
   ],
   "source": [
    "len(image_name)"
   ]
  },
  {
   "cell_type": "code",
   "execution_count": 11,
   "metadata": {},
   "outputs": [],
   "source": [
    "with open('flickr30_image_names.json','w') as j:\n",
    "    json.dump(image_name,j)"
   ]
  },
  {
   "cell_type": "code",
   "execution_count": 12,
   "metadata": {},
   "outputs": [],
   "source": [
    "with open('flickr30_documents.json','w') as j:\n",
    "    json.dump(documents,j)"
   ]
  },
  {
   "cell_type": "code",
   "execution_count": null,
   "metadata": {},
   "outputs": [],
   "source": []
  },
  {
   "cell_type": "code",
   "execution_count": 13,
   "metadata": {},
   "outputs": [],
   "source": [
    "import json\n",
    "from sklearn import feature_extraction\n",
    "from sklearn.feature_extraction.text import CountVectorizer"
   ]
  },
  {
   "cell_type": "code",
   "execution_count": 14,
   "metadata": {},
   "outputs": [],
   "source": [
    "vectorizer = CountVectorizer(analyzer = 'word',stop_words = 'english', lowercase = True, min_df = 5)\n",
    "X = vectorizer.fit_transform(documents)\n",
    "word = vectorizer.get_feature_names()       # 词典"
   ]
  },
  {
   "cell_type": "code",
   "execution_count": 15,
   "metadata": {},
   "outputs": [
    {
     "data": {
      "text/plain": [
       "6844"
      ]
     },
     "execution_count": 15,
     "metadata": {},
     "output_type": "execute_result"
    }
   ],
   "source": [
    "len(word)"
   ]
  },
  {
   "cell_type": "code",
   "execution_count": 16,
   "metadata": {},
   "outputs": [],
   "source": [
    "analyze = vectorizer.build_analyzer()\n",
    "weight = X.toarray()"
   ]
  },
  {
   "cell_type": "code",
   "execution_count": 17,
   "metadata": {},
   "outputs": [],
   "source": [
    "import numpy as np \n",
    "import lda"
   ]
  },
  {
   "cell_type": "code",
   "execution_count": 18,
   "metadata": {},
   "outputs": [
    {
     "name": "stderr",
     "output_type": "stream",
     "text": [
      "INFO:lda:n_documents: 31014\n",
      "INFO:lda:vocab_size: 6844\n",
      "INFO:lda:n_words: 993402\n",
      "INFO:lda:n_topics: 60\n",
      "INFO:lda:n_iter: 800\n",
      "INFO:lda:<0> log likelihood: -12460232\n",
      "INFO:lda:<10> log likelihood: -7739942\n",
      "INFO:lda:<20> log likelihood: -6994681\n",
      "INFO:lda:<30> log likelihood: -6770223\n",
      "INFO:lda:<40> log likelihood: -6661590\n",
      "INFO:lda:<50> log likelihood: -6601195\n",
      "INFO:lda:<60> log likelihood: -6559865\n",
      "INFO:lda:<70> log likelihood: -6526785\n",
      "INFO:lda:<80> log likelihood: -6500779\n",
      "INFO:lda:<90> log likelihood: -6486060\n",
      "INFO:lda:<100> log likelihood: -6475012\n",
      "INFO:lda:<110> log likelihood: -6467049\n",
      "INFO:lda:<120> log likelihood: -6459326\n",
      "INFO:lda:<130> log likelihood: -6452845\n",
      "INFO:lda:<140> log likelihood: -6447079\n",
      "INFO:lda:<150> log likelihood: -6445293\n",
      "INFO:lda:<160> log likelihood: -6439721\n",
      "INFO:lda:<170> log likelihood: -6434849\n",
      "INFO:lda:<180> log likelihood: -6430013\n",
      "INFO:lda:<190> log likelihood: -6424200\n",
      "INFO:lda:<200> log likelihood: -6423370\n",
      "INFO:lda:<210> log likelihood: -6417042\n",
      "INFO:lda:<220> log likelihood: -6416643\n",
      "INFO:lda:<230> log likelihood: -6415647\n",
      "INFO:lda:<240> log likelihood: -6413379\n",
      "INFO:lda:<250> log likelihood: -6413328\n",
      "INFO:lda:<260> log likelihood: -6411741\n",
      "INFO:lda:<270> log likelihood: -6408390\n",
      "INFO:lda:<280> log likelihood: -6409840\n",
      "INFO:lda:<290> log likelihood: -6409848\n",
      "INFO:lda:<300> log likelihood: -6407405\n",
      "INFO:lda:<310> log likelihood: -6407017\n",
      "INFO:lda:<320> log likelihood: -6405557\n",
      "INFO:lda:<330> log likelihood: -6404813\n",
      "INFO:lda:<340> log likelihood: -6404098\n",
      "INFO:lda:<350> log likelihood: -6404187\n",
      "INFO:lda:<360> log likelihood: -6402781\n",
      "INFO:lda:<370> log likelihood: -6402972\n",
      "INFO:lda:<380> log likelihood: -6400767\n",
      "INFO:lda:<390> log likelihood: -6402798\n",
      "INFO:lda:<400> log likelihood: -6399453\n",
      "INFO:lda:<410> log likelihood: -6397197\n",
      "INFO:lda:<420> log likelihood: -6394763\n",
      "INFO:lda:<430> log likelihood: -6394060\n",
      "INFO:lda:<440> log likelihood: -6393570\n",
      "INFO:lda:<450> log likelihood: -6393098\n",
      "INFO:lda:<460> log likelihood: -6392777\n",
      "INFO:lda:<470> log likelihood: -6389460\n",
      "INFO:lda:<480> log likelihood: -6390663\n",
      "INFO:lda:<490> log likelihood: -6391815\n",
      "INFO:lda:<500> log likelihood: -6389326\n",
      "INFO:lda:<510> log likelihood: -6388101\n",
      "INFO:lda:<520> log likelihood: -6389906\n",
      "INFO:lda:<530> log likelihood: -6388064\n",
      "INFO:lda:<540> log likelihood: -6389182\n",
      "INFO:lda:<550> log likelihood: -6389971\n",
      "INFO:lda:<560> log likelihood: -6389353\n",
      "INFO:lda:<570> log likelihood: -6389582\n",
      "INFO:lda:<580> log likelihood: -6390920\n",
      "INFO:lda:<590> log likelihood: -6387078\n",
      "INFO:lda:<600> log likelihood: -6386383\n",
      "INFO:lda:<610> log likelihood: -6388761\n",
      "INFO:lda:<620> log likelihood: -6386490\n",
      "INFO:lda:<630> log likelihood: -6387701\n",
      "INFO:lda:<640> log likelihood: -6386212\n",
      "INFO:lda:<650> log likelihood: -6387621\n",
      "INFO:lda:<660> log likelihood: -6387090\n",
      "INFO:lda:<670> log likelihood: -6386070\n",
      "INFO:lda:<680> log likelihood: -6386025\n",
      "INFO:lda:<690> log likelihood: -6385156\n",
      "INFO:lda:<700> log likelihood: -6385489\n",
      "INFO:lda:<710> log likelihood: -6387395\n",
      "INFO:lda:<720> log likelihood: -6386159\n",
      "INFO:lda:<730> log likelihood: -6385159\n",
      "INFO:lda:<740> log likelihood: -6384664\n",
      "INFO:lda:<750> log likelihood: -6384188\n",
      "INFO:lda:<760> log likelihood: -6385254\n",
      "INFO:lda:<770> log likelihood: -6384081\n",
      "INFO:lda:<780> log likelihood: -6383228\n",
      "INFO:lda:<790> log likelihood: -6383532\n",
      "INFO:lda:<799> log likelihood: -6384251\n"
     ]
    },
    {
     "data": {
      "text/plain": [
       "<lda.lda.LDA at 0x7f65f7261940>"
      ]
     },
     "execution_count": 18,
     "metadata": {},
     "output_type": "execute_result"
    }
   ],
   "source": [
    "model = lda.LDA(n_topics = 60,n_iter = 800,random_state = 1)\n",
    "model.fit(np.asarray(weight))"
   ]
  },
  {
   "cell_type": "code",
   "execution_count": 19,
   "metadata": {},
   "outputs": [
    {
     "name": "stdout",
     "output_type": "stream",
     "text": [
      "[[8.12780816e-07 8.12780816e-07 8.12780816e-07 ... 8.12780816e-07\n",
      "  8.12780816e-07 8.12780816e-07]\n",
      " [6.63991225e-07 6.63991225e-07 6.63991225e-07 ... 6.63991225e-07\n",
      "  6.63991225e-07 6.63991225e-07]\n",
      " [7.10205079e-07 7.10205079e-07 7.10205079e-07 ... 7.10205079e-07\n",
      "  7.10205079e-07 7.10205079e-07]\n",
      " ...\n",
      " [6.39654484e-07 6.39654484e-07 6.39654484e-07 ... 6.39654484e-07\n",
      "  6.39654484e-07 6.39654484e-07]\n",
      " [3.16031254e-07 3.16031254e-07 3.16031254e-07 ... 3.16031254e-07\n",
      "  3.16031254e-07 3.16031254e-07]\n",
      " [7.52527300e-05 7.45076534e-07 7.45076534e-07 ... 7.45076534e-07\n",
      "  7.45076534e-07 7.45076534e-07]]\n"
     ]
    }
   ],
   "source": [
    "topic_word = model.topic_word_\n",
    "print(topic_word)"
   ]
  },
  {
   "cell_type": "code",
   "execution_count": 20,
   "metadata": {},
   "outputs": [
    {
     "data": {
      "text/plain": [
       "60"
      ]
     },
     "execution_count": 20,
     "metadata": {},
     "output_type": "execute_result"
    }
   ],
   "source": [
    "len(topic_word)"
   ]
  },
  {
   "cell_type": "code",
   "execution_count": 21,
   "metadata": {},
   "outputs": [],
   "source": [
    "topic_word = topic_word.tolist()"
   ]
  },
  {
   "cell_type": "code",
   "execution_count": 22,
   "metadata": {},
   "outputs": [],
   "source": [
    "with open('flickr30_topic_word.json','w') as j:\n",
    "    json.dump(topic_word,j)"
   ]
  },
  {
   "cell_type": "code",
   "execution_count": 23,
   "metadata": {},
   "outputs": [],
   "source": [
    "n = 20\n",
    "N_top_word = []\n",
    "for i, word_weight in enumerate(topic_word):\n",
    "    distIndexArr = np.argsort(word_weight)\n",
    "    topN_index = distIndexArr[:-(n+1):-1]\n",
    "    topN_words = np.array(word)[topN_index]\n",
    "    s = \"*Topic \"+str(i)+\": \"+' '.join(topN_words)\n",
    "    N_top_word.append(s)\n",
    "    #print('*Topic {}\\n- {}'.format(i, ' '.join(topN_words)))"
   ]
  },
  {
   "cell_type": "code",
   "execution_count": 24,
   "metadata": {},
   "outputs": [
    {
     "data": {
      "text/plain": [
       "['*Topic 0: snow snowy person covered hill slide winter snowboarder jacket skier mountain skiing ski sled coat wearing skis sliding cold slope',\n",
       " '*Topic 1: camera picture smiling taking posing photo man pose takes standing pictures holding smiles poses smile young photographer looking photograph taken',\n",
       " '*Topic 2: carrying man bag cart pushing bags large pulling holding shopping box carries head basket plastic pushes truck trash street shoulder',\n",
       " '*Topic 3: woman white black wearing dress lady shirt blue girl pink purple skirt tank young blond female dressed purse sunglasses women',\n",
       " '*Topic 4: water beach pool sand swimming fountain ocean bathing swim goggles suit wet diving trunks near sandy playing shorts splashing shore',\n",
       " '*Topic 5: dog black mouth white ball brown stick toy frisbee catch small cat carrying jumps playing holding jumping object tennis yellow',\n",
       " '*Topic 6: drinking man having drink bar beer laughing cup bottle drinks glass holding coffee enjoying sitting smiling party glasses young table',\n",
       " '*Topic 7: woman hair talking blond cellphone long phone brown haired girl young dark black shirt lady wearing talks glasses sunglasses looking',\n",
       " '*Topic 8: green yellow shirt orange wearing blue bright pants shorts light striped colored neon teal taxi dark outfit backpack lime cab',\n",
       " '*Topic 9: food eating kitchen restaurant cooking preparing apron table grill white meal bowl meat eat chef counter eats making plate prepares',\n",
       " '*Topic 10: man sitting room computer desk screen students giving classroom laptop looking working table office using young class talking speaking standing',\n",
       " '*Topic 11: holding sign american african flag standing flags holds says signs shoulders waving carrying stands banner peace poster red large crowd',\n",
       " '*Topic 12: playing band plays instruments music stage instrument drums performing play musical concert violin musicians men drum accordion crowd group saxophone',\n",
       " '*Topic 13: car race running track truck racing road driving lot blue parking vehicle marathon cars number parked runners jogging run street',\n",
       " '*Topic 14: people train waiting bus subway standing line station stop tracks new wait railroad public platform waits york group stand escalator',\n",
       " '*Topic 15: man older old suit glasses gray beard elderly cigarette smoking gentleman wearing white bearded tie bald middle cane holding aged',\n",
       " '*Topic 16: playing basketball tennis game ball player court white racket hit shot play young plays video board shorts hitting trying hoop',\n",
       " '*Topic 17: floor laying sleeping couch bed lying room ground blanket blue eyes asleep sitting lays head young sleeps lies living person',\n",
       " '*Topic 18: holding hand hands holds arms arm standing right head left pointing wearing golf tattoo air stands finger person leg raised',\n",
       " '*Topic 19: sitting bench sits sit park outside ground near steps young looking seated sidewalk stone concrete wall person stool benches lap',\n",
       " '*Topic 20: red shirt wearing black white pants orange striped dressed bandanna person bright jacket outfit vest maroon headband shorts shoes wears',\n",
       " '*Topic 21: flowers police ground standing bucket flower kneeling officer garden dirt holding digging near yellow officers plants hole shovel white looking',\n",
       " '*Topic 22: looking machine uniform wearing military man looks blue microscope telescope gun camouflage lab sewing using army soldier gloves soldiers working',\n",
       " '*Topic 23: man jacket blue black wearing coat brown jeans gray sweatshirt person sweater leather pants standing scarf stands boots dark backpack',\n",
       " '*Topic 24: children boys young playing kids group play boy girls adults little school family small park outside stand adult watch shirts',\n",
       " '*Topic 25: working construction workers orange work hard worker men vest wearing yellow vests building roof safety site hats equipment fixing machine',\n",
       " '*Topic 26: man hat wearing black cap shirt white sunglasses blue baseball mask sweeping straw guy stands cowboy looks overalls broom person',\n",
       " '*Topic 27: baseball ball player throwing bowling ready throw getting game base ride uniform bat throws catch park playing hit trying swinging',\n",
       " '*Topic 28: guitar man playing microphone singing stage plays black shirt sings electric singer white holding performing piano young male background acoustic',\n",
       " '*Topic 29: girl young little pink child dress wearing blond small purple shirt blue hula hair daughter holding toddler smiling plays girls',\n",
       " '*Topic 30: people group crowd large gathered standing watching outside stand watch event gather men adults women outdoor gathering crowded family bunch',\n",
       " '*Topic 31: face head statue hair getting blowing bubbles cake mirror clown making makeup nose looks young painted faces looking eyes putting',\n",
       " '*Topic 32: street walking sidewalk city walks people walk busy past road crossing corner cross buildings streets crowded pedestrians traffic carrying area',\n",
       " '*Topic 33: walking walk path walks bridge area stairs woods road trees forest people wedding trail bride park dirt steps wooded couple',\n",
       " '*Topic 34: men group people standing wearing shirts stand guys white hats talking dressed suits uniforms having black males conversation jackets look',\n",
       " '*Topic 35: field grass grassy martial arts green white lawn karate practicing background wearing black ring people young wrestling fighting park boxing',\n",
       " '*Topic 36: woman couple lady older elderly old women kissing holding female mother hugging middle kiss aged looks watches doctor patient sweater',\n",
       " '*Topic 37: dancing dance performing crowd doing stage black blue female dressed white dancers perform young people watch background cheerleaders dances gymnast',\n",
       " '*Topic 38: women girls young wearing group ladies dresses dressed standing stand talking shirts black white outside females woman alley skirts purple',\n",
       " '*Topic 39: dog running brown black white grass runs field small tan large grassy leash collar yard green golden chasing area german',\n",
       " '*Topic 40: rock man climbing mountain person rocks rope mountains large cliff rocky wall climbs hanging climb ladder backpack climber face overlooking',\n",
       " '*Topic 41: looking standing looks stands fence look camera near watching distance staring leaning railing watches stand away tent background white facing',\n",
       " '*Topic 42: dogs ice hockey playing play cream black run brown white skating cone puck fighting roller rink derby outside war tug',\n",
       " '*Topic 43: water boat river lake body fishing near dock life standing ocean small fish net pier large canoe shore pond stream',\n",
       " '*Topic 44: baby horse riding cowboy horses rodeo bull stroller brown white crying holding small cow infant rider wheelchair trying bucking child',\n",
       " '*Topic 45: wall painting graffiti paper art white covered picture writing piece paint artist painted drawing mural colorful paints large museum walls',\n",
       " '*Topic 46: building outside standing window brick wall stands door near house large old stone doorway leaning inside windows white glass tall',\n",
       " '*Topic 47: bike riding bicycle helmet man dirt motorcycle rides road person ride bikes biker wearing bicycles rider scooter cyclist bicyclist street',\n",
       " '*Topic 48: jumping air jumps skateboard doing jump trick ramp midair man skateboarder young boy high does skateboarding performing park person flip',\n",
       " '*Topic 49: man wood pole metal wooden using cutting shirtless shirt working piece large sculpture black cut guy hammer uses object structure',\n",
       " '*Topic 50: store market stand selling street looking shop people standing fruit shopping food vendor outdoor display vegetables outside items produce asian',\n",
       " '*Topic 51: dressed wearing costume clothing colorful white costumes colored parade indian gold traditional dress clothes outfit red robe brightly christmas like',\n",
       " '*Topic 52: soccer ball player football players team field playing game white blue volleyball uniform red teams wearing jersey uniforms opposing goal',\n",
       " '*Topic 53: large leaves blue holding balloon balloons pile balls colorful animal stuffed giant hot inside air round tire plastic inflatable tube',\n",
       " '*Topic 54: boy child young little small blue shirt swing playing kid toddler toy wearing blond plays playground son red adult set',\n",
       " '*Topic 55: man wave surfer bird white person surfboard blue surfing ocean flying headphones waves black riding wetsuit airplane large board listening',\n",
       " '*Topic 56: asian tree umbrella holding standing rain chinese umbrellas clothes hanging outside oriental large laundry near stands christmas japanese trees log',\n",
       " '*Topic 57: sitting table reading chair book sits sit chairs outside restaurant newspaper reads paper seated cafe looking room books tables picnic',\n",
       " '*Topic 58: man shirt blue white wearing black jeans shorts striped pants gray young plaid guy male dark long light shoes button',\n",
       " '*Topic 59: people day background sunny night sun outside trees city sunset sky beautiful view lit light setting enjoying lights bright couple']"
      ]
     },
     "execution_count": 24,
     "metadata": {},
     "output_type": "execute_result"
    }
   ],
   "source": [
    "N_top_word"
   ]
  },
  {
   "cell_type": "code",
   "execution_count": 25,
   "metadata": {},
   "outputs": [],
   "source": [
    "with open('flickr30_N_top_word.json','w') as j:\n",
    "    json.dump(N_top_word,j)"
   ]
  },
  {
   "cell_type": "code",
   "execution_count": 26,
   "metadata": {},
   "outputs": [],
   "source": [
    "with open('flickr30_N_top_word.json','r') as j:\n",
    "    topic_word = json.load(j)"
   ]
  },
  {
   "cell_type": "code",
   "execution_count": null,
   "metadata": {},
   "outputs": [],
   "source": [
    "word_20 = []\n",
    "\n",
    "for i in topic_word:\n",
    "    i = i.split(': ')[1]\n",
    "    word_20.append(i)"
   ]
  },
  {
   "cell_type": "code",
   "execution_count": null,
   "metadata": {},
   "outputs": [],
   "source": []
  },
  {
   "cell_type": "code",
   "execution_count": null,
   "metadata": {},
   "outputs": [],
   "source": []
  }
 ],
 "metadata": {
  "kernelspec": {
   "display_name": "Python 3",
   "language": "python",
   "name": "python3"
  },
  "language_info": {
   "codemirror_mode": {
    "name": "ipython",
    "version": 3
   },
   "file_extension": ".py",
   "mimetype": "text/x-python",
   "name": "python",
   "nbconvert_exporter": "python",
   "pygments_lexer": "ipython3",
   "version": "3.6.8"
  }
 },
 "nbformat": 4,
 "nbformat_minor": 2
}
