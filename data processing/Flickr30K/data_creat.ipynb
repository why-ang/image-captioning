{
 "cells": [
  {
   "cell_type": "code",
   "execution_count": 1,
   "metadata": {},
   "outputs": [
    {
     "name": "stderr",
     "output_type": "stream",
     "text": [
      "/home/why/anaconda3/lib/python3.6/site-packages/h5py/__init__.py:36: FutureWarning: Conversion of the second argument of issubdtype from `float` to `np.floating` is deprecated. In future, it will be treated as `np.float64 == np.dtype(float).type`.\n",
      "  from ._conv import register_converters as _register_converters\n"
     ]
    }
   ],
   "source": [
    "import os\n",
    "import json\n",
    "import argparse\n",
    "from random import shuffle, seed\n",
    "import string\n",
    "# non-standard dependencies:\n",
    "import h5py\n",
    "import numpy as np\n",
    "import torch\n",
    "import torchvision.models as models\n",
    "import skimage.io\n",
    "from PIL import Image\n",
    "\n"
   ]
  },
  {
   "cell_type": "code",
   "execution_count": 2,
   "metadata": {},
   "outputs": [],
   "source": [
    "def build_vocab(imgs):\n",
    "    count_thr = 5\n",
    "\n",
    "  \n",
    "    counts = {}\n",
    "    for img in imgs:\n",
    "        for sent in img['sentences']:\n",
    "            for w in sent['tokens']:\n",
    "                counts[w] = counts.get(w, 0) + 1\n",
    "    cw = sorted([(count,w) for w,count in counts.items()], reverse=True)     # 按词频排序\n",
    "    print('top words and their counts:')\n",
    "    print('\\n'.join(map(str,cw[:20])))      #打印前20个词频最高的词\n",
    "\n",
    "  # 统计词频分布\n",
    "    total_words = sum(counts.values())    #总单词数\n",
    "    print('total words:', total_words)     \n",
    "    bad_words = [w for w,n in counts.items() if n <= count_thr]   #统计词频小于5的单词\n",
    "    vocab = [w for w,n in counts.items() if n > count_thr]      #用词频大于5的单词构建词典\n",
    "    bad_count = sum(counts[w] for w in bad_words)                # 统计所有低频词出现的次数\n",
    "    \n",
    "    print('number of bad words: %d/%d = %.2f%%' % (len(bad_words), len(counts), len(bad_words)*100.0/len(counts)))\n",
    "    print('number of words in vocab would be %d' % (len(vocab), ))\n",
    "    print('number of UNKs: %d/%d = %.2f%%' % (bad_count, total_words, bad_count*100.0/total_words))\n",
    "\n",
    "  # 统计句子长度分布\n",
    "    sent_lengths = {}\n",
    "    for img in imgs:\n",
    "        for sent in img['sentences']:\n",
    "            txt = sent['tokens']\n",
    "            nw = len(txt)\n",
    "            sent_lengths[nw] = sent_lengths.get(nw, 0) + 1\n",
    "    max_len = max(sent_lengths.keys())\n",
    "    print('max length sentence in raw data: ', max_len)\n",
    "    print('sentence length distribution (count, number of words):')\n",
    "    sum_len = sum(sent_lengths.values())\n",
    "    for i in range(max_len+1):\n",
    "        print('%2d: %10d   %f%%' % (i, sent_lengths.get(i,0), sent_lengths.get(i,0)*100.0/sum_len))\n",
    "       \n",
    "\n",
    "        \n",
    "        \n",
    "  # 添加未知词  （词频<=5的词归为未知词UNK ）\n",
    "    if bad_count > 0:\n",
    "        print('inserting the special UNK token')\n",
    "        vocab.append('UNK') \n",
    "  \n",
    "    for img in imgs:\n",
    "        img['final_captions'] = []\n",
    "        for sent in img['sentences']:\n",
    "            txt = sent['tokens']\n",
    "            caption = [w if counts.get(w,0) > count_thr else 'UNK' for w in txt]\n",
    "            img['final_captions'].append(caption)\n",
    "\n",
    "    return vocab"
   ]
  },
  {
   "cell_type": "code",
   "execution_count": 3,
   "metadata": {},
   "outputs": [],
   "source": [
    "def encode_captions(imgs, wtoi):\n",
    "\n",
    "    max_length = 20\n",
    "    N = len(imgs)\n",
    "    M = sum(len(img['final_captions']) for img in imgs) # 计算总的句子数\n",
    "\n",
    "    label_arrays = []\n",
    "    label_start_ix = np.zeros(N, dtype='uint32') # note: these will be one-indexed\n",
    "    label_end_ix = np.zeros(N, dtype='uint32')\n",
    "    label_length = np.zeros(M, dtype='uint32')\n",
    "    caption_counter = 0\n",
    "    counter = 1\n",
    "    for i,img in enumerate(imgs):\n",
    "        n = len(img['final_captions'])\n",
    "        assert n > 0, 'error: some image has no captions'\n",
    "\n",
    "        Li = np.zeros((n, max_length), dtype='uint32')\n",
    "        for j,s in enumerate(img['final_captions']):\n",
    "            label_length[caption_counter] = min(max_length, len(s)) # 判断当前图片caption 长度是否  大于最长句子\n",
    "            caption_counter += 1\n",
    "            for k,w in enumerate(s):\n",
    "                if k < max_length:      #  超过长度的截断 \n",
    "                    Li[j,k] = wtoi[w]  \n",
    "\n",
    "        # note: word indices are 1-indexed, and captions are padded with zeros\n",
    "        label_arrays.append(Li)\n",
    "        label_start_ix[i] = counter    # 图像  第一个描述  标号\n",
    "        label_end_ix[i] = counter + n - 1   # 图像结尾描述标号\n",
    "\n",
    "        counter += n\n",
    "\n",
    "    L = np.concatenate(label_arrays, axis=0) # 所有caption 拼接起来   （图像数 * 5， max_len）\n",
    "    assert L.shape[0] == M, 'lengths don\\'t match? that\\'s weird'\n",
    "    assert np.all(label_length > 0), 'error: some caption had no words?'\n",
    "\n",
    "    print('encoded captions to array of size ', L.shape)\n",
    "    return L, label_start_ix, label_end_ix, label_length\n",
    "\n"
   ]
  },
  {
   "cell_type": "code",
   "execution_count": 4,
   "metadata": {},
   "outputs": [],
   "source": [
    "def main():\n",
    "    \n",
    "    ################################################\n",
    "    \n",
    "    imgs = json.load(open(input_json, 'r'))\n",
    "    imgs = imgs['images']    \n",
    "\n",
    "#     with open(\"/home/why/image-captioning-bottom-up-top-down/other_dataset/WORDMAP_coco_5_cap_per_img_5_min_word_freq.json\", 'r') as j:\n",
    "#         word_map = json.load(j)\n",
    "\n",
    "    with open(\"f30_top_1_topic_class.json\", 'r') as j:\n",
    "        image_topclass= json.load(j)\n",
    "\n",
    "    with open(\"f30_top_1_topic_word.json\", 'r') as j:\n",
    "        image_topword= json.load(j)\n",
    "\n",
    "  #############################################################################  \n",
    "    \n",
    "    seed(123) # make reproducible\n",
    "    vocab = build_vocab(imgs)\n",
    "    \n",
    "    \n",
    "    wtoi = {w:i+1 for i,w in enumerate(vocab)} # 词  -->  数字\n",
    "    itow = {i+1:w for i,w in enumerate(vocab)} # 数字  -->  词\n",
    "    \n",
    "    L, label_start_ix, label_end_ix, label_length = encode_captions(imgs, wtoi)\n",
    "    \n",
    "    N = len(imgs)\n",
    "    f_lb = h5py.File(output_h5+'_label.h5', \"w\")\n",
    "    f_lb.create_dataset(\"labels\", dtype='uint32', data=L)                         \n",
    "    f_lb.create_dataset(\"label_start_ix\", dtype='uint32', data=label_start_ix)\n",
    "    f_lb.create_dataset(\"label_end_ix\", dtype='uint32', data=label_end_ix)\n",
    "    f_lb.create_dataset(\"label_length\", dtype='uint32', data=label_length)\n",
    "    f_lb.close()\n",
    "\n",
    "    out = {}\n",
    "    out['ix_to_word'] = itow # encode the (1-indexed) vocab\n",
    "    out['images'] = []\n",
    "    for i,img in enumerate(imgs):\n",
    "        jimg = {}\n",
    "        jimg['split'] = img['split']\n",
    "        if 'filename' in img: jimg['file_path'] = os.path.join(img.get('filepath',''), img['filename']) # copy it over, might need\n",
    "        if 'cocoid' in img: \n",
    "            jimg['id'] = img['cocoid'] # copy over & mantain an id, if present (e.g. coco ids, useful)\n",
    "        elif 'imgid' in img:\n",
    "            jimg['id'] = img['imgid']\n",
    "        \n",
    "        image_id = img['filename'].split('.')[0]\n",
    "\n",
    "        top_class = image_topclass[str(image_id)]\n",
    "        word = image_topword[str(image_id)]\n",
    "        word = word.split(' ')\n",
    "        enc_w = [wtoi.get(word, wtoi['UNK']) for word in word]\n",
    "        jimg['topic_class'] = top_class\n",
    "        jimg['topic_word'] = enc_w\n",
    "        \n",
    "        \n",
    "        if images_root != '':\n",
    "            with Image.open(os.path.join(images_root, img['filepath'], img['filename'])) as _img:\n",
    "                jimg['width'], jimg['height'] = _img.size\n",
    "\n",
    "        out['images'].append(jimg)\n",
    "\n",
    "    json.dump(out, open(output_json, 'w'))\n",
    "    print('wrote ', output_json)\n",
    "\n"
   ]
  },
  {
   "cell_type": "code",
   "execution_count": 5,
   "metadata": {},
   "outputs": [],
   "source": [
    "images_root=''\n",
    "input_json='/home/why/data/caption/dataset_flickr30k.json'\n",
    "output_json ='/home/sdb1/why/self-critical/data/f30_data.json'\n",
    "output_h5 ='/home/sdb1/why/self-critical/data/f30_data'"
   ]
  },
  {
   "cell_type": "code",
   "execution_count": null,
   "metadata": {},
   "outputs": [],
   "source": []
  },
  {
   "cell_type": "code",
   "execution_count": null,
   "metadata": {},
   "outputs": [],
   "source": []
  },
  {
   "cell_type": "code",
   "execution_count": 52,
   "metadata": {},
   "outputs": [],
   "source": [
    "import json\n",
    "output_json ='/home/sdb1/why/self-critical/len_16/f30_data.json'"
   ]
  },
  {
   "cell_type": "code",
   "execution_count": 53,
   "metadata": {},
   "outputs": [],
   "source": [
    "data = json.load(open(output_json,'r'))"
   ]
  },
  {
   "cell_type": "code",
   "execution_count": 59,
   "metadata": {},
   "outputs": [],
   "source": [
    "a = data['images']"
   ]
  },
  {
   "cell_type": "code",
   "execution_count": 70,
   "metadata": {},
   "outputs": [
    {
     "name": "stdout",
     "output_type": "stream",
     "text": [
      "23\n",
      "[29, 276, 97, 30, 55, 123, 96, 85, 93, 159, 692, 834, 2710, 417, 1051, 157, 2039, 2266, 647, 525]\n"
     ]
    }
   ],
   "source": [
    "for i in a:\n",
    "    if i['id'] == 20:\n",
    "        print(i['topic_class'])\n",
    "        print(i['topic_word'])"
   ]
  },
  {
   "cell_type": "code",
   "execution_count": 71,
   "metadata": {},
   "outputs": [],
   "source": [
    "w = data['ix_to_word']"
   ]
  },
  {
   "cell_type": "code",
   "execution_count": 72,
   "metadata": {},
   "outputs": [],
   "source": [
    "t = [29, 276, 97, 30, 55, 123, 96, 85, 93, 159, 692, 834, 2710, 417, 1051, 157, 2039, 2266, 647, 525]"
   ]
  },
  {
   "cell_type": "code",
   "execution_count": 73,
   "metadata": {},
   "outputs": [
    {
     "name": "stdout",
     "output_type": "stream",
     "text": [
      "man\n",
      "jacket\n",
      "black\n",
      "blue\n",
      "wearing\n",
      "coat\n",
      "gray\n",
      "hat\n",
      "jeans\n",
      "brown\n",
      "sweatshirt\n",
      "sweater\n",
      "leather\n",
      "pants\n",
      "backpack\n",
      "dark\n",
      "scarf\n",
      "hoodie\n",
      "sunglasses\n",
      "tan\n"
     ]
    }
   ],
   "source": [
    "for i in t:\n",
    "    print(w[str(i)])"
   ]
  },
  {
   "cell_type": "code",
   "execution_count": null,
   "metadata": {},
   "outputs": [],
   "source": []
  },
  {
   "cell_type": "code",
   "execution_count": 6,
   "metadata": {},
   "outputs": [
    {
     "name": "stdout",
     "output_type": "stream",
     "text": [
      "top words and their counts:\n",
      "(265492, 'a')\n",
      "(81628, 'in')\n",
      "(61368, 'the')\n",
      "(44545, 'on')\n",
      "(43362, 'and')\n",
      "(41564, 'man')\n",
      "(40237, 'is')\n",
      "(38092, 'of')\n",
      "(35432, 'with')\n",
      "(21582, 'woman')\n",
      "(21100, 'two')\n",
      "(19794, 'are')\n",
      "(17302, 'to')\n",
      "(17024, 'people')\n",
      "(15934, 'at')\n",
      "(15600, 'an')\n",
      "(15373, 'wearing')\n",
      "(14083, 'shirt')\n",
      "(12971, 'white')\n",
      "(12857, 'young')\n",
      "total words: 1911068\n",
      "number of bad words: 11460/18459 = 62.08%\n",
      "number of words in vocab would be 6999\n",
      "number of UNKs: 21558/1911068 = 1.13%\n",
      "max length sentence in raw data:  78\n",
      "sentence length distribution (count, number of words):\n",
      " 0:          0   0.000000%\n",
      " 1:          0   0.000000%\n",
      " 2:         23   0.014832%\n",
      " 3:        197   0.127039%\n",
      " 4:        859   0.553943%\n",
      " 5:       3169   2.043593%\n",
      " 6:       7531   4.856516%\n",
      " 7:      10698   6.898820%\n",
      " 8:      12866   8.296898%\n",
      " 9:      14791   9.538273%\n",
      "10:      15393   9.926485%\n",
      "11:      14443   9.313858%\n",
      "12:      12844   8.282711%\n",
      "13:      11401   7.352164%\n",
      "14:       9996   6.446121%\n",
      "15:       8000   5.158960%\n",
      "16:       6577   4.241310%\n",
      "17:       5219   3.365577%\n",
      "18:       4268   2.752305%\n",
      "19:       3434   2.214484%\n",
      "20:       2679   1.727607%\n",
      "21:       2107   1.358741%\n",
      "22:       1649   1.063391%\n",
      "23:       1330   0.857677%\n",
      "24:       1094   0.705488%\n",
      "25:        900   0.580383%\n",
      "26:        705   0.454633%\n",
      "27:        516   0.332753%\n",
      "28:        422   0.272135%\n",
      "29:        366   0.236022%\n",
      "30:        286   0.184433%\n",
      "31:        233   0.150255%\n",
      "32:        178   0.114787%\n",
      "33:        142   0.091572%\n",
      "34:        148   0.095441%\n",
      "35:        104   0.067066%\n",
      "36:         70   0.045141%\n",
      "37:         80   0.051590%\n",
      "38:         52   0.033533%\n",
      "39:         48   0.030954%\n",
      "40:         47   0.030309%\n",
      "41:         27   0.017411%\n",
      "42:         28   0.018056%\n",
      "43:         19   0.012253%\n",
      "44:         18   0.011608%\n",
      "45:         10   0.006449%\n",
      "46:         20   0.012897%\n",
      "47:          9   0.005804%\n",
      "48:         12   0.007738%\n",
      "49:          8   0.005159%\n",
      "50:          8   0.005159%\n",
      "51:          7   0.004514%\n",
      "52:          5   0.003224%\n",
      "53:          4   0.002579%\n",
      "54:          5   0.003224%\n",
      "55:          6   0.003869%\n",
      "56:          1   0.000645%\n",
      "57:          0   0.000000%\n",
      "58:          2   0.001290%\n",
      "59:          0   0.000000%\n",
      "60:          2   0.001290%\n",
      "61:          2   0.001290%\n",
      "62:          0   0.000000%\n",
      "63:          3   0.001935%\n",
      "64:          2   0.001290%\n",
      "65:          1   0.000645%\n",
      "66:          0   0.000000%\n",
      "67:          0   0.000000%\n",
      "68:          0   0.000000%\n",
      "69:          1   0.000645%\n",
      "70:          2   0.001290%\n",
      "71:          0   0.000000%\n",
      "72:          1   0.000645%\n",
      "73:          1   0.000645%\n",
      "74:          0   0.000000%\n",
      "75:          0   0.000000%\n",
      "76:          0   0.000000%\n",
      "77:          0   0.000000%\n",
      "78:          1   0.000645%\n",
      "inserting the special UNK token\n",
      "encoded captions to array of size  (155070, 20)\n",
      "wrote  /home/sdb1/why/self-critical/data/f30_data.json\n"
     ]
    }
   ],
   "source": [
    "main()"
   ]
  },
  {
   "cell_type": "code",
   "execution_count": null,
   "metadata": {},
   "outputs": [],
   "source": []
  },
  {
   "cell_type": "code",
   "execution_count": null,
   "metadata": {},
   "outputs": [],
   "source": []
  },
  {
   "cell_type": "code",
   "execution_count": 1,
   "metadata": {},
   "outputs": [],
   "source": [
    "sss = [0.000000,0.000000,0.014832,0.127039,0.553943,2.043593,4.856516,6.898820,8.296898,9.538273,9.926485,9.313858,8.282711,7.352164,\n",
    "      6.446121,5.158960,4.241310,3.365577,2.752305,2.214484,1.727607,1.358741,1.063391,0.857677,0.705488,0.580383,0.454633,0.332753,0.272135,0.236022,0.184433]\n"
   ]
  },
  {
   "cell_type": "code",
   "execution_count": null,
   "metadata": {},
   "outputs": [],
   "source": []
  },
  {
   "cell_type": "code",
   "execution_count": 28,
   "metadata": {},
   "outputs": [
    {
     "data": {
      "image/png": "[encoded data removed]",
      "text/plain": [
       "<Figure size 432x288 with 1 Axes>"
      ]
     },
     "metadata": {},
     "output_type": "display_data"
    }
   ],
   "source": [
    "import matplotlib.pyplot as plt\n",
    "\n",
    "from pylab import mpl\n",
    "mpl.rcParams['font.sans-serif'] = ['SimHei']\n",
    "\n",
    "\n",
    "\n",
    "label_list = [i for i in range(30)]\n",
    "num_list1 = sss\n",
    "x = range(len(num_list1))\n",
    "\"\"\"\n",
    "绘制条形图\n",
    "left:长条形中点横坐标\n",
    "height:长条形高度\n",
    "width:长条形宽度，默认值0.8\n",
    "label:为后面设置legend准备\n",
    "\"\"\"\n",
    "rects1 = plt.bar(x=x, height=num_list1, width=0.8, alpha=0.8, color='red')\n",
    "#rects2 = plt.bar(left=[i + 0.4 for i in x], height=num_list2, width=0.4, color='green', label=\"二部门\")\n",
    "plt.ylim(0, 14)     # y轴取值范围\n",
    "plt.ylabel('Proportion in the dataset(%)')\n",
    "\"\"\"\n",
    "设置x轴刻度显示值\n",
    "参数一：中点坐标\n",
    "参数二：显示值\n",
    "\"\"\"\n",
    "plt.xticks([0,5,10,15,20,25,30])\n",
    "plt.xlabel('captions length')\n",
    "#plt.title(\"sdsdsd\")\n",
    "#plt.legend()     # 设置题注\n",
    "# 编辑文本\n",
    "# for rect in rects1:\n",
    "#     height = rect.get_height()\n",
    "    #plt.text(rect.get_x() + rect.get_width() / 2, height+1, str(height), ha=\"center\", va=\"bottom\")\n",
    "    \n",
    "plt.savefig('caption_length.png')\n",
    "plt.show()"
   ]
  },
  {
   "cell_type": "code",
   "execution_count": null,
   "metadata": {},
   "outputs": [],
   "source": []
  },
  {
   "cell_type": "code",
   "execution_count": 2,
   "metadata": {},
   "outputs": [],
   "source": [
    "scoco = [0.000000,0.000000,0.000000,0.000000,0.000000,0.000162,0.002270,\n",
    "0.786521,16.438461,21.812289,21.492395,15.436299, 9.823807,5.712530,3.245310,1.860670,1.122304,0.699292,\n",
    "0.446684,0.310166,0.212722,0.149651,0.107820,0.081554,\n",
    "0.053181,0.041831,0.031454,0.025293,0.015727,0.011998,0.008431]"
   ]
  },
  {
   "cell_type": "code",
   "execution_count": 30,
   "metadata": {},
   "outputs": [
    {
     "data": {
      "image/png": "[encoded data removed]",
      "text/plain": [
       "<Figure size 432x288 with 1 Axes>"
      ]
     },
     "metadata": {},
     "output_type": "display_data"
    }
   ],
   "source": [
    "import matplotlib.pyplot as plt\n",
    "import matplotlib\n",
    "\n",
    "\n",
    "label_list = [i for i in range(30)]\n",
    "num_list1 = scoco\n",
    "x = range(len(num_list1))\n",
    "\"\"\"\n",
    "绘制条形图\n",
    "left:长条形中点横坐标\n",
    "height:长条形高度\n",
    "width:长条形宽度，默认值0.8\n",
    "label:为后面设置legend准备\n",
    "\"\"\"\n",
    "rects1 = plt.bar(x=x, height=num_list1, width=0.8, alpha=0.8, color='red')\n",
    "#rects2 = plt.bar(left=[i + 0.4 for i in x], height=num_list2, width=0.4, color='green', label=\"二部门\")\n",
    "plt.ylim(0, 25)     # y轴取值范围\n",
    "plt.ylabel('Proportion in the dataset(%)')\n",
    "\"\"\"\n",
    "设置x轴刻度显示值\n",
    "参数一：中点坐标\n",
    "参数二：显示值\n",
    "\"\"\"\n",
    "plt.xticks([0,5,10,15,20,25,30])\n",
    "plt.xlabel('captions length')\n",
    "#plt.title(\"sdsdsd\")\n",
    "#plt.legend()     # 设置题注\n",
    "# 编辑文本\n",
    "# for rect in rects1:\n",
    "#     height = rect.get_height()\n",
    "    #plt.text(rect.get_x() + rect.get_width() / 2, height+1, str(height), ha=\"center\", va=\"bottom\")\n",
    "    \n",
    "plt.savefig('coco_caption_length.png')\n",
    "plt.show()"
   ]
  },
  {
   "cell_type": "code",
   "execution_count": null,
   "metadata": {},
   "outputs": [],
   "source": []
  },
  {
   "cell_type": "code",
   "execution_count": 3,
   "metadata": {},
   "outputs": [],
   "source": [
    "scoco = [0.000000,0.000000,0.000000,0.000000,0.000000,0.000162,0.002270,\n",
    "0.786521,16.438461,21.812289,21.492395,15.436299, 9.823807,5.712530,3.245310,1.860670,1.122304,0.699292,\n",
    "0.446684,0.310166,0.212722,0.149651,0.107820,0.081554,\n",
    "0.053181,0.041831,0.031454,0.025293,0.015727,0.011998,0.008431]"
   ]
  },
  {
   "cell_type": "code",
   "execution_count": 4,
   "metadata": {},
   "outputs": [],
   "source": [
    "sss = [0.000000,0.000000,0.014832,0.127039,0.553943,2.043593,4.856516,6.898820,8.296898,9.538273,9.926485,9.313858,8.282711,7.352164,\n",
    "      6.446121,5.158960,4.241310,3.365577,2.752305,2.214484,1.727607,1.358741,1.063391,0.857677,0.705488,0.580383,0.454633,0.332753,0.272135,0.236022,0.184433]\n"
   ]
  },
  {
   "cell_type": "code",
   "execution_count": 19,
   "metadata": {},
   "outputs": [
    {
     "data": {
      "image/png": "[encoded data removed]",
      "text/plain": [
       "<Figure size 864x288 with 2 Axes>"
      ]
     },
     "metadata": {},
     "output_type": "display_data"
    }
   ],
   "source": [
    "import matplotlib.pyplot as plt\n",
    "import matplotlib\n",
    "\n",
    "plt.figure(figsize = (12,4))\n",
    "\n",
    "plt.subplot(1,2,1)\n",
    "\n",
    "label_list = [i for i in range(30)]\n",
    "num_list1 = scoco\n",
    "x = range(len(num_list1))\n",
    "rects1 = plt.bar(x=x, height=num_list1, width=0.8, alpha=0.8, color='red')\n",
    "plt.ylim(0, 25) \n",
    "plt.ylabel('Proportion in the dataset(%)')\n",
    "plt.xticks([0,5,10,15,20,25,30])\n",
    "plt.xlabel('captions length')\n",
    "plt.title(\"MSCOCO dataset\")\n",
    "\n",
    "plt.subplots_adjust(wspace = 0.2)\n",
    "\n",
    "plt.subplot(1,2,2)\n",
    "label_list = [i for i in range(30)]\n",
    "num_list1 = sss\n",
    "x = range(len(num_list1))\n",
    "rects1 = plt.bar(x=x, height=num_list1, width=0.8, alpha=0.8, color='red')\n",
    "plt.ylim(0, 14)\n",
    "plt.ylabel('Proportion in the dataset(%)')\n",
    "plt.xticks([0,5,10,15,20,25,30])\n",
    "plt.xlabel('captions length')\n",
    "plt.title(\"Flickr30K dataset\")\n",
    "\n",
    "plt.savefig('coco_caption_length.png')\n",
    "plt.show()"
   ]
  },
  {
   "cell_type": "code",
   "execution_count": null,
   "metadata": {},
   "outputs": [],
   "source": []
  },
  {
   "cell_type": "code",
   "execution_count": null,
   "metadata": {},
   "outputs": [],
   "source": []
  },
  {
   "cell_type": "code",
   "execution_count": null,
   "metadata": {},
   "outputs": [],
   "source": []
  },
  {
   "cell_type": "code",
   "execution_count": null,
   "metadata": {},
   "outputs": [],
   "source": []
  },
  {
   "cell_type": "code",
   "execution_count": null,
   "metadata": {},
   "outputs": [],
   "source": []
  },
  {
   "cell_type": "code",
   "execution_count": null,
   "metadata": {},
   "outputs": [],
   "source": []
  },
  {
   "cell_type": "code",
   "execution_count": null,
   "metadata": {},
   "outputs": [],
   "source": []
  },
  {
   "cell_type": "code",
   "execution_count": 2,
   "metadata": {},
   "outputs": [],
   "source": [
    "from PIL import Image\n",
    "import matplotlib.pyplot as plt"
   ]
  },
  {
   "cell_type": "code",
   "execution_count": 3,
   "metadata": {},
   "outputs": [
    {
     "ename": "NameError",
     "evalue": "name 'json' is not defined",
     "output_type": "error",
     "traceback": [
      "\u001b[0;31m---------------------------------------------------------------------------\u001b[0m",
      "\u001b[0;31mNameError\u001b[0m                                 Traceback (most recent call last)",
      "\u001b[0;32m<ipython-input-3-b1d0e5878c1d>\u001b[0m in \u001b[0;36m<module>\u001b[0;34m()\u001b[0m\n\u001b[0;32m----> 1\u001b[0;31m \u001b[0maa\u001b[0m \u001b[0;34m=\u001b[0m \u001b[0mjson\u001b[0m\u001b[0;34m.\u001b[0m\u001b[0mload\u001b[0m\u001b[0;34m(\u001b[0m\u001b[0mopen\u001b[0m\u001b[0;34m(\u001b[0m\u001b[0moutput_json\u001b[0m\u001b[0;34m,\u001b[0m\u001b[0;34m'r'\u001b[0m\u001b[0;34m)\u001b[0m\u001b[0;34m)\u001b[0m\u001b[0;34m\u001b[0m\u001b[0;34m\u001b[0m\u001b[0m\n\u001b[0m",
      "\u001b[0;31mNameError\u001b[0m: name 'json' is not defined"
     ]
    }
   ],
   "source": [
    "aa = json.load(open(output_json,'r'))"
   ]
  },
  {
   "cell_type": "code",
   "execution_count": null,
   "metadata": {},
   "outputs": [],
   "source": []
  },
  {
   "cell_type": "code",
   "execution_count": 77,
   "metadata": {},
   "outputs": [],
   "source": [
    "iii = aa['images'][55]['file_path']"
   ]
  },
  {
   "cell_type": "code",
   "execution_count": 78,
   "metadata": {},
   "outputs": [
    {
     "data": {
      "text/plain": [
       "{'split': 'restval',\n",
       " 'file_path': 'val2014/COCO_val2014_000000191381.jpg',\n",
       " 'id': 191381,\n",
       " 'topic_class': 41,\n",
       " 'topic_word': [432,\n",
       "  219,\n",
       "  163,\n",
       "  46,\n",
       "  438,\n",
       "  454,\n",
       "  7,\n",
       "  482,\n",
       "  544,\n",
       "  123,\n",
       "  489,\n",
       "  480,\n",
       "  497,\n",
       "  98,\n",
       "  120,\n",
       "  218,\n",
       "  194,\n",
       "  457,\n",
       "  733,\n",
       "  527],\n",
       " 'width': 640,\n",
       " 'height': 480}"
      ]
     },
     "execution_count": 78,
     "metadata": {},
     "output_type": "execute_result"
    }
   ],
   "source": [
    "aa['images'][55]"
   ]
  },
  {
   "cell_type": "code",
   "execution_count": 79,
   "metadata": {},
   "outputs": [],
   "source": [
    "iii = images_root+'/'+iii"
   ]
  },
  {
   "cell_type": "code",
   "execution_count": 80,
   "metadata": {},
   "outputs": [
    {
     "data": {
      "text/plain": [
       "'/home/sdb1/why/COCO/val2014/COCO_val2014_000000191381.jpg'"
      ]
     },
     "execution_count": 80,
     "metadata": {},
     "output_type": "execute_result"
    }
   ],
   "source": [
    "iii"
   ]
  },
  {
   "cell_type": "code",
   "execution_count": 1,
   "metadata": {},
   "outputs": [
    {
     "ename": "NameError",
     "evalue": "name 'Image' is not defined",
     "output_type": "error",
     "traceback": [
      "\u001b[0;31m---------------------------------------------------------------------------\u001b[0m",
      "\u001b[0;31mNameError\u001b[0m                                 Traceback (most recent call last)",
      "\u001b[0;32m<ipython-input-1-79ee62b4c0ba>\u001b[0m in \u001b[0;36m<module>\u001b[0;34m()\u001b[0m\n\u001b[0;32m----> 1\u001b[0;31m \u001b[0mimage\u001b[0m \u001b[0;34m=\u001b[0m \u001b[0mImage\u001b[0m\u001b[0;34m.\u001b[0m\u001b[0mopen\u001b[0m\u001b[0;34m(\u001b[0m\u001b[0miii\u001b[0m\u001b[0;34m)\u001b[0m\u001b[0;34m\u001b[0m\u001b[0;34m\u001b[0m\u001b[0m\n\u001b[0m\u001b[1;32m      2\u001b[0m \u001b[0mplt\u001b[0m\u001b[0;34m.\u001b[0m\u001b[0mimshow\u001b[0m\u001b[0;34m(\u001b[0m\u001b[0mimage\u001b[0m\u001b[0;34m)\u001b[0m\u001b[0;34m\u001b[0m\u001b[0;34m\u001b[0m\u001b[0m\n\u001b[1;32m      3\u001b[0m \u001b[0mplt\u001b[0m\u001b[0;34m.\u001b[0m\u001b[0msavg\u001b[0m\u001b[0;34m(\u001b[0m\u001b[0;34m'image.png'\u001b[0m\u001b[0;34m)\u001b[0m\u001b[0;34m\u001b[0m\u001b[0;34m\u001b[0m\u001b[0m\n\u001b[1;32m      4\u001b[0m \u001b[0mplt\u001b[0m\u001b[0;34m.\u001b[0m\u001b[0mshow\u001b[0m\u001b[0;34m\u001b[0m\u001b[0;34m\u001b[0m\u001b[0m\n",
      "\u001b[0;31mNameError\u001b[0m: name 'Image' is not defined"
     ]
    }
   ],
   "source": [
    "image = Image.open(iii)\n",
    "plt.imshow(image)\n",
    "plt.show"
   ]
  },
  {
   "cell_type": "code",
   "execution_count": null,
   "metadata": {},
   "outputs": [],
   "source": []
  },
  {
   "cell_type": "code",
   "execution_count": null,
   "metadata": {},
   "outputs": [],
   "source": []
  },
  {
   "cell_type": "code",
   "execution_count": null,
   "metadata": {},
   "outputs": [],
   "source": []
  }
 ],
 "metadata": {
  "kernelspec": {
   "display_name": "Python 3",
   "language": "python",
   "name": "python3"
  },
  "language_info": {
   "codemirror_mode": {
    "name": "ipython",
    "version": 3
   },
   "file_extension": ".py",
   "mimetype": "text/x-python",
   "name": "python",
   "nbconvert_exporter": "python",
   "pygments_lexer": "ipython3",
   "version": "3.6.8"
  }
 },
 "nbformat": 4,
 "nbformat_minor": 2
}
