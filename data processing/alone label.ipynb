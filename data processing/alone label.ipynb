{
 "cells": [
  {
   "cell_type": "code",
   "execution_count": 1,
   "metadata": {},
   "outputs": [],
   "source": [
    "import json\n",
    "\n",
    "coco_caption_path = \"/home/why/data/caption/dataset_coco.json\"\n",
    "\n",
    "\n",
    "with open(coco_caption_path,'r') as j:\n",
    "    captions = json.load(j)\n",
    "    "
   ]
  },
  {
   "cell_type": "markdown",
   "metadata": {},
   "source": [
    "# 数据处理"
   ]
  },
  {
   "cell_type": "code",
   "execution_count": 2,
   "metadata": {},
   "outputs": [],
   "source": [
    "all_document = []\n",
    "\n",
    "\n",
    "\"\"\"\n",
    "数据结构\n",
    "\n",
    "all_documents = [{ ‘name’: 图像名字， ‘document’: 图像的5句标注 } ,.....]\n",
    "\n",
    "\"\"\"\n",
    "\n",
    "for i in captions[\"images\"]:\n",
    "    d = {}\n",
    "    d['name'] = i['filename']\n",
    "    caps = []\n",
    "    for j in i['sentences']:\n",
    "        caps.append(j['raw'])\n",
    "    caps = ' '.join(caps)\n",
    "    d['document'] = caps\n",
    "    all_document.append(d)"
   ]
  },
  {
   "cell_type": "code",
   "execution_count": null,
   "metadata": {},
   "outputs": [],
   "source": []
  },
  {
   "cell_type": "code",
   "execution_count": 3,
   "metadata": {},
   "outputs": [],
   "source": [
    "image_name = []\n",
    "documents = []\n",
    "for i in all_document:\n",
    "    image_name.append(i['name'])\n",
    "    documents.append(i['document'])"
   ]
  },
  {
   "cell_type": "code",
   "execution_count": 4,
   "metadata": {},
   "outputs": [
    {
     "data": {
      "text/plain": [
       "['COCO_val2014_000000391895.jpg',\n",
       " 'COCO_val2014_000000522418.jpg',\n",
       " 'COCO_val2014_000000184613.jpg',\n",
       " 'COCO_val2014_000000318219.jpg',\n",
       " 'COCO_val2014_000000554625.jpg',\n",
       " 'COCO_val2014_000000397133.jpg',\n",
       " 'COCO_val2014_000000574769.jpg',\n",
       " 'COCO_val2014_000000060623.jpg',\n",
       " 'COCO_val2014_000000309022.jpg',\n",
       " 'COCO_val2014_000000005802.jpg']"
      ]
     },
     "execution_count": 4,
     "metadata": {},
     "output_type": "execute_result"
    }
   ],
   "source": [
    "image_name[:10]"
   ]
  },
  {
   "cell_type": "code",
   "execution_count": 5,
   "metadata": {},
   "outputs": [
    {
     "data": {
      "text/plain": [
       "['A man with a red helmet on a small moped on a dirt road.  Man riding a motor bike on a dirt road on the countryside. A man riding on the back of a motorcycle. A dirt path with a young person on a motor bike rests to the foreground of a verdant area with a bridge and a background of cloud-wreathed mountains.  A man in a red shirt and a red hat is on a motorcycle on a hill side.',\n",
       " \"A woman wearing a net on her head cutting a cake.  A woman cutting a large white sheet cake. A woman wearing a hair net cutting a large sheet cake. there is a woman that is cutting a white cake A woman marking a cake with the back of a chef's knife. \",\n",
       " 'A child holding a flowered umbrella and petting a yak. A young man holding an umbrella next to a herd of cattle. a young boy barefoot holding an umbrella touching the horn of a cow A young boy with an umbrella who is touching the horn of a cow. A boy holding an umbrella while standing next to livestock.',\n",
       " 'A young boy standing in front of a computer keyboard. a little boy wearing headphones and looking at a computer monitor He is listening intently to the computer at school. A young boy stares up at the computer monitor. a young kid with head phones on using a computer ',\n",
       " 'a boy wearing headphones using one computer in a long row of computers A little boy with earphones on listening to something. A group of people sitting at desk using computers. Children sitting at computer stations on a long table. A small child wearing headphones plays on the computer.',\n",
       " 'A man is in a kitchen making pizzas. Man in apron standing on front of oven with pans and bakeware A baker is working in the kitchen rolling dough. A person standing by a stove in a kitchen. A table with pies being made and a person standing near a wall with pots and pans hanging on the wall.',\n",
       " 'A woman in a room with a cat. A girl smiles as she holds a cat and wears a brightly colored skirt. a woman is holding a cat in her kitchen A woman is working in a kitchen carrying a soft toy. A woman is holding a cat in her kitchen.',\n",
       " 'A young girl inhales with the intent of blowing out a candle.  A young girl is preparing to blow out her candle. A kid is to blow out the single candle in a bowl of birthday goodness.  Girl blowing out the candle on an ice-cream  A little girl is getting ready to blow out a candle on a small dessert.',\n",
       " 'A commercial stainless kitchen with a pot of food cooking.  Some food sits in a pot in a kitchen.  A kitchen has all stainless steel appliances and counters. a kitchen with a sink and many cooking machines and a pot of food Food cooks in a pot on a stove in a kitchen.',\n",
       " 'Two men wearing aprons working in a commercial-style kitchen. Chefs preparing food in a professional metallic style kitchen. Two people standing around in a large kitchen. A commercial kitchen with two men working to prepare several plates. two men in white shirts in a large steel kitchen']"
      ]
     },
     "execution_count": 5,
     "metadata": {},
     "output_type": "execute_result"
    }
   ],
   "source": [
    "documents[:10]"
   ]
  },
  {
   "cell_type": "markdown",
   "metadata": {},
   "source": [
    "# LDA"
   ]
  },
  {
   "cell_type": "code",
   "execution_count": 6,
   "metadata": {},
   "outputs": [],
   "source": [
    "import json\n",
    "from sklearn import feature_extraction\n",
    "from sklearn.feature_extraction.text import CountVectorizer\n",
    "import numpy as np \n",
    "import lda"
   ]
  },
  {
   "cell_type": "code",
   "execution_count": null,
   "metadata": {},
   "outputs": [],
   "source": []
  },
  {
   "cell_type": "code",
   "execution_count": 7,
   "metadata": {},
   "outputs": [],
   "source": [
    "vectorizer = CountVectorizer(analyzer = 'word',stop_words = 'english', lowercase = True, min_df = 5)\n",
    "X = vectorizer.fit_transform(documents)\n",
    "word = vectorizer.get_feature_names()       # 词典"
   ]
  },
  {
   "cell_type": "code",
   "execution_count": 8,
   "metadata": {},
   "outputs": [
    {
     "data": {
      "text/plain": [
       "9679"
      ]
     },
     "execution_count": 8,
     "metadata": {},
     "output_type": "execute_result"
    }
   ],
   "source": [
    "len(word)"
   ]
  },
  {
   "cell_type": "code",
   "execution_count": 9,
   "metadata": {},
   "outputs": [],
   "source": [
    "with open('data/all_word.json','w') as j:\n",
    "    json.dump(word,j)"
   ]
  },
  {
   "cell_type": "code",
   "execution_count": 10,
   "metadata": {},
   "outputs": [],
   "source": [
    "analyze = vectorizer.build_analyzer()\n",
    "weight = X.toarray()"
   ]
  },
  {
   "cell_type": "code",
   "execution_count": null,
   "metadata": {},
   "outputs": [],
   "source": []
  },
  {
   "cell_type": "code",
   "execution_count": 11,
   "metadata": {},
   "outputs": [
    {
     "name": "stderr",
     "output_type": "stream",
     "text": [
      "INFO:lda:n_documents: 123287\n",
      "INFO:lda:vocab_size: 9679\n",
      "INFO:lda:n_words: 3259779\n",
      "INFO:lda:n_topics: 60\n",
      "INFO:lda:n_iter: 500\n",
      "INFO:lda:<0> log likelihood: -39755125\n",
      "INFO:lda:<10> log likelihood: -22664960\n",
      "INFO:lda:<20> log likelihood: -20345012\n",
      "INFO:lda:<30> log likelihood: -19816190\n",
      "INFO:lda:<40> log likelihood: -19626854\n",
      "INFO:lda:<50> log likelihood: -19523755\n",
      "INFO:lda:<60> log likelihood: -19455355\n",
      "INFO:lda:<70> log likelihood: -19421524\n",
      "INFO:lda:<80> log likelihood: -19396752\n",
      "INFO:lda:<90> log likelihood: -19373498\n",
      "INFO:lda:<100> log likelihood: -19353380\n",
      "INFO:lda:<110> log likelihood: -19343395\n",
      "INFO:lda:<120> log likelihood: -19330170\n",
      "INFO:lda:<130> log likelihood: -19321965\n",
      "INFO:lda:<140> log likelihood: -19313861\n",
      "INFO:lda:<150> log likelihood: -19315659\n",
      "INFO:lda:<160> log likelihood: -19307734\n",
      "INFO:lda:<170> log likelihood: -19300044\n",
      "INFO:lda:<180> log likelihood: -19300512\n",
      "INFO:lda:<190> log likelihood: -19299390\n",
      "INFO:lda:<200> log likelihood: -19297467\n",
      "INFO:lda:<210> log likelihood: -19296767\n",
      "INFO:lda:<220> log likelihood: -19294865\n",
      "INFO:lda:<230> log likelihood: -19292762\n",
      "INFO:lda:<240> log likelihood: -19294369\n",
      "INFO:lda:<250> log likelihood: -19289224\n",
      "INFO:lda:<260> log likelihood: -19288716\n",
      "INFO:lda:<270> log likelihood: -19292848\n",
      "INFO:lda:<280> log likelihood: -19290905\n",
      "INFO:lda:<290> log likelihood: -19288946\n",
      "INFO:lda:<300> log likelihood: -19290671\n",
      "INFO:lda:<310> log likelihood: -19291088\n",
      "INFO:lda:<320> log likelihood: -19294167\n",
      "INFO:lda:<330> log likelihood: -19289055\n",
      "INFO:lda:<340> log likelihood: -19287576\n",
      "INFO:lda:<350> log likelihood: -19290997\n",
      "INFO:lda:<360> log likelihood: -19289042\n",
      "INFO:lda:<370> log likelihood: -19289169\n",
      "INFO:lda:<380> log likelihood: -19288817\n",
      "INFO:lda:<390> log likelihood: -19288930\n",
      "INFO:lda:<400> log likelihood: -19286988\n",
      "INFO:lda:<410> log likelihood: -19284905\n",
      "INFO:lda:<420> log likelihood: -19281006\n",
      "INFO:lda:<430> log likelihood: -19278289\n",
      "INFO:lda:<440> log likelihood: -19281200\n",
      "INFO:lda:<450> log likelihood: -19277220\n",
      "INFO:lda:<460> log likelihood: -19277051\n",
      "INFO:lda:<470> log likelihood: -19280251\n",
      "INFO:lda:<480> log likelihood: -19276490\n",
      "INFO:lda:<490> log likelihood: -19279483\n",
      "INFO:lda:<499> log likelihood: -19276243\n"
     ]
    },
    {
     "data": {
      "text/plain": [
       "<lda.lda.LDA at 0x7f8e0fa3f828>"
      ]
     },
     "execution_count": 11,
     "metadata": {},
     "output_type": "execute_result"
    }
   ],
   "source": [
    "model = lda.LDA(n_topics = 60,n_iter = 500,random_state = 1)\n",
    "model.fit(np.asarray(weight))"
   ]
  },
  {
   "cell_type": "code",
   "execution_count": null,
   "metadata": {},
   "outputs": [],
   "source": []
  },
  {
   "cell_type": "code",
   "execution_count": 12,
   "metadata": {},
   "outputs": [
    {
     "name": "stdout",
     "output_type": "stream",
     "text": [
      "[[1.61041513e-07 1.61041513e-07 1.61041513e-07 ... 1.61041513e-07\n",
      "  1.61041513e-07 1.61041513e-07]\n",
      " [1.62077733e-07 1.62077733e-07 1.62077733e-07 ... 1.62077733e-07\n",
      "  1.62077733e-07 1.62077733e-07]\n",
      " [1.28207117e-07 1.28207117e-07 1.28207117e-07 ... 1.28207117e-07\n",
      "  1.28207117e-07 1.28207117e-07]\n",
      " ...\n",
      " [1.75092129e-07 1.75092129e-07 1.75092129e-07 ... 1.75092129e-07\n",
      "  1.75092129e-07 1.75092129e-07]\n",
      " [1.80437702e-07 1.80437702e-07 1.80437702e-07 ... 1.80437702e-07\n",
      "  1.80437702e-07 1.80437702e-07]\n",
      " [2.15462493e-07 2.15462493e-07 2.15462493e-07 ... 2.15462493e-07\n",
      "  4.33079612e-05 2.15462493e-07]]\n"
     ]
    }
   ],
   "source": [
    "'''每个主题的单词比重'''\n",
    "\n",
    "topic_word = model.topic_word_\n",
    "print(topic_word)"
   ]
  },
  {
   "cell_type": "code",
   "execution_count": 13,
   "metadata": {},
   "outputs": [
    {
     "data": {
      "text/plain": [
       "60"
      ]
     },
     "execution_count": 13,
     "metadata": {},
     "output_type": "execute_result"
    }
   ],
   "source": [
    "len(topic_word)"
   ]
  },
  {
   "cell_type": "code",
   "execution_count": 14,
   "metadata": {},
   "outputs": [
    {
     "data": {
      "text/plain": [
       "9679"
      ]
     },
     "execution_count": 14,
     "metadata": {},
     "output_type": "execute_result"
    }
   ],
   "source": [
    "len(topic_word[0])"
   ]
  },
  {
   "cell_type": "code",
   "execution_count": 15,
   "metadata": {},
   "outputs": [],
   "source": [
    "topic_word = topic_word.tolist()"
   ]
  },
  {
   "cell_type": "code",
   "execution_count": 16,
   "metadata": {},
   "outputs": [],
   "source": [
    "with open('per_topic_worddiscrim.json','w') as j:\n",
    "    json.dump(topic_word,j)"
   ]
  },
  {
   "cell_type": "code",
   "execution_count": null,
   "metadata": {},
   "outputs": [],
   "source": []
  },
  {
   "cell_type": "code",
   "execution_count": 17,
   "metadata": {},
   "outputs": [],
   "source": [
    "\"\"\"每个主题中最重要的20个单词\"\"\"\n",
    "n = 20\n",
    "N_top_word = []\n",
    "for i, word_weight in enumerate(topic_word):\n",
    "    distIndexArr = np.argsort(word_weight)\n",
    "    topN_index = distIndexArr[:-(n+1):-1]\n",
    "    topN_words = np.array(word)[topN_index]\n",
    "    s = \"*Topic \"+str(i)+\": \"+' '.join(topN_words)\n",
    "    N_top_word.append(s)\n",
    "    #print('*Topic {}\\n- {}'.format(i, ' '.join(topN_words)))"
   ]
  },
  {
   "cell_type": "code",
   "execution_count": 18,
   "metadata": {},
   "outputs": [
    {
     "data": {
      "text/plain": [
       "['*Topic 0: airplane plane flying sky large runway airport jet air blue small parked white tarmac sitting planes airplanes cloudy passenger landing',\n",
       " '*Topic 1: cat laying black sitting white sleeping lying couch floor cats ground orange resting chair brown shoes gray kitten lays sits',\n",
       " '*Topic 2: tennis court ball racket player man playing racquet holding hit swinging hitting match ready serve game male female rackets players',\n",
       " '*Topic 3: phone cell talking taking picture looking cellphone holding phones using person camera sitting smart ear photo takes talks selfie device',\n",
       " '*Topic 4: white black photo picture old photograph image close wedding vintage blurry bride couple groom shows background dark taken shot married',\n",
       " '*Topic 5: walking umbrella umbrellas holding street sidewalk people rain carrying walks walk person outside open near chairs past standing day city',\n",
       " '*Topic 6: playing game wii video remote room holding controller nintendo standing living control games couch controllers people play television tv sitting',\n",
       " '*Topic 7: baseball player bat ball game field batter swinging players ready catcher pitch home swing plate base man holding pitcher hit',\n",
       " '*Topic 8: laptop computer desk sitting keyboard table mouse monitor office computers laptops using screen lap open wooden sits desktop monitors working',\n",
       " '*Topic 9: box scissors pair paper pictures table items different sitting toothbrush various plastic close photos cutting piece tooth toothbrushes brush picture',\n",
       " '*Topic 10: children soccer playing group young kids ball boys field girls game men couple people play players little kicking team basketball',\n",
       " '*Topic 11: men people standing group couple women posing picture stand pose guys young near photo wearing dressed suits talking smiling woman',\n",
       " '*Topic 12: street city traffic light cars lights night buildings busy intersection road view corner crossing red middle driving town sidewalk green',\n",
       " '*Topic 13: luggage suitcase sitting bag bags floor suitcases inside pile cart airport open piece backpack case stacked ground clothes carrying purse',\n",
       " '*Topic 14: bananas fruit banana bowl oranges orange bunch apples fruits market vegetables table apple filled sitting green basket stand fresh pile',\n",
       " '*Topic 15: motorcycle riding bike parked motorcycles bicycle street road bikes motor person bicycles helmet dirt near scooter rides sidewalk man red',\n",
       " '*Topic 16: horse horses riding brown carriage pulling drawn white cart ride standing pulled person horseback wagon rides couple near dirt race',\n",
       " '*Topic 17: like statue face toy decorated looks picture look shaped large painting painted small colorful model doll image display fish close',\n",
       " '*Topic 18: sheep field grass cows standing cow grazing herd green grassy group animals brown cattle white pasture large near hill fence',\n",
       " '*Topic 19: bed bedroom room book laying white hotel blanket books sitting beds small pillows large reading pillow window sheets lying lamp',\n",
       " '*Topic 20: surfboard wave man riding ocean board water surf surfer person surfing beach waves surfboards surfers wet boards rides suit carrying',\n",
       " '*Topic 21: man wearing tie hat suit shirt standing dressed glasses black red jacket blue person sunglasses smiling neck posing picture camera',\n",
       " '*Topic 22: pizza cake plate table cutting piece sitting slice knife birthday cheese white board cut large chocolate slices fork pizzas candles',\n",
       " '*Topic 23: truck road parked large street police trucks driving white car van near vehicle red trailer construction big yellow officer pickup',\n",
       " '*Topic 24: beach flying kite kites sky sand people sandy day ocean field fly blue large colorful near air park person standing',\n",
       " '*Topic 25: woman holding girl lady standing young teeth person women brushing hair smiling wearing dress female beautiful stands posing pink shirt',\n",
       " '*Topic 26: sitting bench wooden park chair sits benches near sit outside wood couple green middle reading seated area metal looking ground',\n",
       " '*Topic 27: old lot parking parked building outside sitting near house cars graffiti sits broken row fashioned meters garage vintage covered sidewalk',\n",
       " '*Topic 28: water boat boats river body near lake small large dock bridge floating docked shore pool ocean swimming pond background drinking',\n",
       " '*Topic 29: wall mirror door view hanging open brick stone picture reflection outside inside building looking ceiling house near doors seen doorway',\n",
       " '*Topic 30: boy young girl child little small holding baby kid standing toddler holds shirt adult smiling mouth pink playing stands eating',\n",
       " '*Topic 31: different display donuts store donut doughnut doughnuts filled various bunch box types shop case lined row chocolate covered variety displayed',\n",
       " '*Topic 32: looking window sitting cat head standing camera looks white outside black staring inside look open close sill sits sticking cats',\n",
       " '*Topic 33: people group standing crowd large watching bunch stand gathered line watch outside couple waiting number near crowded family tent event',\n",
       " '*Topic 34: person air jumping man high doing jump feet flying legs mid trick jumps upside foot performing shadow leg shoes image',\n",
       " '*Topic 35: red blue hydrant yellow green white orange sitting sidewalk bright near painted flag sits colored american silver close middle curb',\n",
       " '*Topic 36: table sitting eating food plates cup coffee restaurant drink drinks dinner meal dining wooden sit cups eat sits set plate',\n",
       " '*Topic 37: giraffe standing giraffes fence zoo enclosure near eating area trees feeding tree looking fenced tall couple head inside pen cage',\n",
       " '*Topic 38: bear teddy stuffed bears sitting brown animal animals large polar rock small rocks toy white big sits toys pink panda',\n",
       " '*Topic 39: train tracks station track traveling yellow platform trains red passenger near railroad bridge going long engine subway pulling blue coming',\n",
       " '*Topic 40: car birds sitting meter parking seat small near vehicle flock white couple black wheel parked trash sits standing close image',\n",
       " '*Topic 41: bathroom toilet sink white mirror shower small tub bath room floor bathtub tiled sitting wall sinks walls tile seat restroom',\n",
       " '*Topic 42: snow covered snowboard person snowboarder hill snowy board mountain riding man slope snowboarding ground snowboards standing day winter mountains going',\n",
       " '*Topic 43: dog hot dogs small brown mouth black white sitting hotdog bun leash large mustard puppy hotdogs ketchup eating long covered',\n",
       " '*Topic 44: man person guy shirt young stands looking older male smiling kneeling leaning taking looks getting watching working shirtless watches putting',\n",
       " '*Topic 45: holding man person hand standing holds hands arm stands held close giving camera pointing arms face guy smiling head right',\n",
       " '*Topic 46: elephant elephants walking standing baby dirt large road near adult small trunk area herd group mother trees path couple walks',\n",
       " '*Topic 47: sign street stop signs pole road red corner building post way intersection says traffic near hanging background reads green attached',\n",
       " '*Topic 48: clock building tower large tall brick big old church clocks sky buildings city background stone near middle outside wall time',\n",
       " '*Topic 49: room living couch television tv table chairs furniture large chair area fireplace screen filled dining couches floor small wood sofa',\n",
       " '*Topic 50: frisbee playing field park grass running catch green throwing catching young men grassy white yard disc yellow game outside trying',\n",
       " '*Topic 51: food kitchen oven counter preparing cooking stove pan blender making pot inside restaurant grill metal large putting working pans chef',\n",
       " '*Topic 52: skateboard man riding skate trick doing board skateboarder ramp young park person boy skateboarding tricks skateboards performing rail guy air',\n",
       " '*Topic 53: kitchen refrigerator counter stove microwave white cabinets oven sink small appliances wooden fridge wood open steel stainless inside area large',\n",
       " '*Topic 54: snow skis skiing ski slope skier snowy mountain person hill covered skiers riding man cross country standing poles wearing going',\n",
       " '*Topic 55: field grass zebra standing zebras grassy trees green walking area grazing near tall group open eating herd dirt dry lush',\n",
       " '*Topic 56: plate food sandwich broccoli vegetables bowl white meat carrots table salad topped bread fries cheese rice tray filled dish close',\n",
       " '*Topic 57: bus street double city decker red parked driving buses road large white yellow blue stop school traveling building green public',\n",
       " '*Topic 58: flowers vase glass table wine bottle sitting glasses pink flower vases filled white beer bottles purple red small drinking clear',\n",
       " '*Topic 59: tree bird trees green small sitting branch standing perched leaves large near forest plant plants christmas woods garden palm branches']"
      ]
     },
     "execution_count": 18,
     "metadata": {},
     "output_type": "execute_result"
    }
   ],
   "source": [
    "N_top_word"
   ]
  },
  {
   "cell_type": "code",
   "execution_count": null,
   "metadata": {},
   "outputs": [],
   "source": []
  },
  {
   "cell_type": "code",
   "execution_count": 2,
   "metadata": {},
   "outputs": [
    {
     "ename": "NameError",
     "evalue": "name 'N_top_word' is not defined",
     "output_type": "error",
     "traceback": [
      "\u001b[0;31m---------------------------------------------------------------------------\u001b[0m",
      "\u001b[0;31mNameError\u001b[0m                                 Traceback (most recent call last)",
      "\u001b[0;32m<ipython-input-2-65bc16e31012>\u001b[0m in \u001b[0;36m<module>\u001b[0;34m()\u001b[0m\n\u001b[1;32m      2\u001b[0m \u001b[0;34m\u001b[0m\u001b[0m\n\u001b[1;32m      3\u001b[0m \u001b[0;32mwith\u001b[0m \u001b[0mopen\u001b[0m\u001b[0;34m(\u001b[0m\u001b[0;34m'Topic_i_20_word.json'\u001b[0m\u001b[0;34m,\u001b[0m\u001b[0;34m'w'\u001b[0m\u001b[0;34m)\u001b[0m \u001b[0;32mas\u001b[0m \u001b[0mj\u001b[0m\u001b[0;34m:\u001b[0m\u001b[0;34m\u001b[0m\u001b[0;34m\u001b[0m\u001b[0m\n\u001b[0;32m----> 4\u001b[0;31m     \u001b[0mjson\u001b[0m\u001b[0;34m.\u001b[0m\u001b[0mdump\u001b[0m\u001b[0;34m(\u001b[0m\u001b[0mN_top_word\u001b[0m\u001b[0;34m,\u001b[0m\u001b[0mj\u001b[0m\u001b[0;34m)\u001b[0m\u001b[0;34m\u001b[0m\u001b[0;34m\u001b[0m\u001b[0m\n\u001b[0m",
      "\u001b[0;31mNameError\u001b[0m: name 'N_top_word' is not defined"
     ]
    }
   ],
   "source": [
    "with open('Topic_i_20_word.json','w') as j:\n",
    "    json.dump(N_top_word,j)"
   ]
  },
  {
   "cell_type": "code",
   "execution_count": 19,
   "metadata": {},
   "outputs": [],
   "source": [
    "\"\"\"获取每个主题的单词表示\"\"\"\n",
    "\n",
    "word_20 = []\n",
    "\n",
    "for i in N_top_word:\n",
    "    i = i.split(': ')[1]\n",
    "    word_20.append(i)"
   ]
  },
  {
   "cell_type": "code",
   "execution_count": 20,
   "metadata": {},
   "outputs": [
    {
     "data": {
      "text/plain": [
       "['airplane plane flying sky large runway airport jet air blue small parked white tarmac sitting planes airplanes cloudy passenger landing',\n",
       " 'cat laying black sitting white sleeping lying couch floor cats ground orange resting chair brown shoes gray kitten lays sits',\n",
       " 'tennis court ball racket player man playing racquet holding hit swinging hitting match ready serve game male female rackets players',\n",
       " 'phone cell talking taking picture looking cellphone holding phones using person camera sitting smart ear photo takes talks selfie device',\n",
       " 'white black photo picture old photograph image close wedding vintage blurry bride couple groom shows background dark taken shot married',\n",
       " 'walking umbrella umbrellas holding street sidewalk people rain carrying walks walk person outside open near chairs past standing day city',\n",
       " 'playing game wii video remote room holding controller nintendo standing living control games couch controllers people play television tv sitting',\n",
       " 'baseball player bat ball game field batter swinging players ready catcher pitch home swing plate base man holding pitcher hit',\n",
       " 'laptop computer desk sitting keyboard table mouse monitor office computers laptops using screen lap open wooden sits desktop monitors working',\n",
       " 'box scissors pair paper pictures table items different sitting toothbrush various plastic close photos cutting piece tooth toothbrushes brush picture',\n",
       " 'children soccer playing group young kids ball boys field girls game men couple people play players little kicking team basketball',\n",
       " 'men people standing group couple women posing picture stand pose guys young near photo wearing dressed suits talking smiling woman',\n",
       " 'street city traffic light cars lights night buildings busy intersection road view corner crossing red middle driving town sidewalk green',\n",
       " 'luggage suitcase sitting bag bags floor suitcases inside pile cart airport open piece backpack case stacked ground clothes carrying purse',\n",
       " 'bananas fruit banana bowl oranges orange bunch apples fruits market vegetables table apple filled sitting green basket stand fresh pile',\n",
       " 'motorcycle riding bike parked motorcycles bicycle street road bikes motor person bicycles helmet dirt near scooter rides sidewalk man red',\n",
       " 'horse horses riding brown carriage pulling drawn white cart ride standing pulled person horseback wagon rides couple near dirt race',\n",
       " 'like statue face toy decorated looks picture look shaped large painting painted small colorful model doll image display fish close',\n",
       " 'sheep field grass cows standing cow grazing herd green grassy group animals brown cattle white pasture large near hill fence',\n",
       " 'bed bedroom room book laying white hotel blanket books sitting beds small pillows large reading pillow window sheets lying lamp',\n",
       " 'surfboard wave man riding ocean board water surf surfer person surfing beach waves surfboards surfers wet boards rides suit carrying',\n",
       " 'man wearing tie hat suit shirt standing dressed glasses black red jacket blue person sunglasses smiling neck posing picture camera',\n",
       " 'pizza cake plate table cutting piece sitting slice knife birthday cheese white board cut large chocolate slices fork pizzas candles',\n",
       " 'truck road parked large street police trucks driving white car van near vehicle red trailer construction big yellow officer pickup',\n",
       " 'beach flying kite kites sky sand people sandy day ocean field fly blue large colorful near air park person standing',\n",
       " 'woman holding girl lady standing young teeth person women brushing hair smiling wearing dress female beautiful stands posing pink shirt',\n",
       " 'sitting bench wooden park chair sits benches near sit outside wood couple green middle reading seated area metal looking ground',\n",
       " 'old lot parking parked building outside sitting near house cars graffiti sits broken row fashioned meters garage vintage covered sidewalk',\n",
       " 'water boat boats river body near lake small large dock bridge floating docked shore pool ocean swimming pond background drinking',\n",
       " 'wall mirror door view hanging open brick stone picture reflection outside inside building looking ceiling house near doors seen doorway',\n",
       " 'boy young girl child little small holding baby kid standing toddler holds shirt adult smiling mouth pink playing stands eating',\n",
       " 'different display donuts store donut doughnut doughnuts filled various bunch box types shop case lined row chocolate covered variety displayed',\n",
       " 'looking window sitting cat head standing camera looks white outside black staring inside look open close sill sits sticking cats',\n",
       " 'people group standing crowd large watching bunch stand gathered line watch outside couple waiting number near crowded family tent event',\n",
       " 'person air jumping man high doing jump feet flying legs mid trick jumps upside foot performing shadow leg shoes image',\n",
       " 'red blue hydrant yellow green white orange sitting sidewalk bright near painted flag sits colored american silver close middle curb',\n",
       " 'table sitting eating food plates cup coffee restaurant drink drinks dinner meal dining wooden sit cups eat sits set plate',\n",
       " 'giraffe standing giraffes fence zoo enclosure near eating area trees feeding tree looking fenced tall couple head inside pen cage',\n",
       " 'bear teddy stuffed bears sitting brown animal animals large polar rock small rocks toy white big sits toys pink panda',\n",
       " 'train tracks station track traveling yellow platform trains red passenger near railroad bridge going long engine subway pulling blue coming',\n",
       " 'car birds sitting meter parking seat small near vehicle flock white couple black wheel parked trash sits standing close image',\n",
       " 'bathroom toilet sink white mirror shower small tub bath room floor bathtub tiled sitting wall sinks walls tile seat restroom',\n",
       " 'snow covered snowboard person snowboarder hill snowy board mountain riding man slope snowboarding ground snowboards standing day winter mountains going',\n",
       " 'dog hot dogs small brown mouth black white sitting hotdog bun leash large mustard puppy hotdogs ketchup eating long covered',\n",
       " 'man person guy shirt young stands looking older male smiling kneeling leaning taking looks getting watching working shirtless watches putting',\n",
       " 'holding man person hand standing holds hands arm stands held close giving camera pointing arms face guy smiling head right',\n",
       " 'elephant elephants walking standing baby dirt large road near adult small trunk area herd group mother trees path couple walks',\n",
       " 'sign street stop signs pole road red corner building post way intersection says traffic near hanging background reads green attached',\n",
       " 'clock building tower large tall brick big old church clocks sky buildings city background stone near middle outside wall time',\n",
       " 'room living couch television tv table chairs furniture large chair area fireplace screen filled dining couches floor small wood sofa',\n",
       " 'frisbee playing field park grass running catch green throwing catching young men grassy white yard disc yellow game outside trying',\n",
       " 'food kitchen oven counter preparing cooking stove pan blender making pot inside restaurant grill metal large putting working pans chef',\n",
       " 'skateboard man riding skate trick doing board skateboarder ramp young park person boy skateboarding tricks skateboards performing rail guy air',\n",
       " 'kitchen refrigerator counter stove microwave white cabinets oven sink small appliances wooden fridge wood open steel stainless inside area large',\n",
       " 'snow skis skiing ski slope skier snowy mountain person hill covered skiers riding man cross country standing poles wearing going',\n",
       " 'field grass zebra standing zebras grassy trees green walking area grazing near tall group open eating herd dirt dry lush',\n",
       " 'plate food sandwich broccoli vegetables bowl white meat carrots table salad topped bread fries cheese rice tray filled dish close',\n",
       " 'bus street double city decker red parked driving buses road large white yellow blue stop school traveling building green public',\n",
       " 'flowers vase glass table wine bottle sitting glasses pink flower vases filled white beer bottles purple red small drinking clear',\n",
       " 'tree bird trees green small sitting branch standing perched leaves large near forest plant plants christmas woods garden palm branches']"
      ]
     },
     "execution_count": 20,
     "metadata": {},
     "output_type": "execute_result"
    }
   ],
   "source": [
    "word_20"
   ]
  },
  {
   "cell_type": "code",
   "execution_count": 21,
   "metadata": {},
   "outputs": [],
   "source": [
    "with open('word_20.json','w') as j:\n",
    "    json.dump(word_20,j)"
   ]
  },
  {
   "cell_type": "code",
   "execution_count": 22,
   "metadata": {},
   "outputs": [
    {
     "name": "stdout",
     "output_type": "stream",
     "text": [
      "type(doc_topic):<class 'numpy.ndarray'>\n",
      "shape:(123287, 60)\n",
      "[0.07045455 0.00227273 0.00227273 0.00227273 0.00227273 0.00227273\n",
      " 0.00227273 0.00227273 0.00227273 0.00227273 0.00227273 0.00227273\n",
      " 0.00227273 0.00227273 0.00227273 0.41136364 0.00227273 0.00227273\n",
      " 0.04772727 0.00227273 0.00227273 0.025      0.00227273 0.00227273\n",
      " 0.00227273 0.00227273 0.00227273 0.00227273 0.04772727 0.00227273\n",
      " 0.00227273 0.00227273 0.00227273 0.00227273 0.025      0.00227273\n",
      " 0.00227273 0.00227273 0.00227273 0.00227273 0.00227273 0.00227273\n",
      " 0.00227273 0.00227273 0.11590909 0.00227273 0.00227273 0.00227273\n",
      " 0.00227273 0.00227273 0.025      0.00227273 0.00227273 0.00227273\n",
      " 0.00227273 0.09318182 0.00227273 0.025      0.00227273 0.00227273]\n",
      "doc:0topic:15\n",
      "[0.00285714 0.00285714 0.06       0.00285714 0.00285714 0.00285714\n",
      " 0.00285714 0.00285714 0.00285714 0.00285714 0.00285714 0.00285714\n",
      " 0.00285714 0.00285714 0.00285714 0.00285714 0.00285714 0.00285714\n",
      " 0.00285714 0.00285714 0.00285714 0.08857143 0.40285714 0.00285714\n",
      " 0.00285714 0.17428571 0.00285714 0.00285714 0.00285714 0.00285714\n",
      " 0.00285714 0.00285714 0.00285714 0.00285714 0.00285714 0.08857143\n",
      " 0.00285714 0.00285714 0.00285714 0.00285714 0.00285714 0.00285714\n",
      " 0.00285714 0.00285714 0.00285714 0.00285714 0.00285714 0.00285714\n",
      " 0.00285714 0.00285714 0.00285714 0.03142857 0.00285714 0.00285714\n",
      " 0.00285714 0.00285714 0.00285714 0.00285714 0.00285714 0.00285714]\n",
      "doc:1topic:22\n",
      "[0.0027027  0.0027027  0.0027027  0.0027027  0.0027027  0.13783784\n",
      " 0.0027027  0.0027027  0.0027027  0.0027027  0.0027027  0.0027027\n",
      " 0.0027027  0.0027027  0.0027027  0.0027027  0.0027027  0.0027027\n",
      " 0.24594595 0.0027027  0.0027027  0.0027027  0.0027027  0.0027027\n",
      " 0.0027027  0.0027027  0.0027027  0.0027027  0.0027027  0.0027027\n",
      " 0.35405405 0.0027027  0.0027027  0.0027027  0.0027027  0.0027027\n",
      " 0.0027027  0.0027027  0.0027027  0.0027027  0.0027027  0.0027027\n",
      " 0.0027027  0.0027027  0.0027027  0.11081081 0.0027027  0.0027027\n",
      " 0.0027027  0.0027027  0.0027027  0.0027027  0.0027027  0.0027027\n",
      " 0.0027027  0.0027027  0.0027027  0.0027027  0.0027027  0.0027027 ]\n",
      "doc:2topic:30\n",
      "[0.0030303  0.0030303  0.0030303  0.09393939 0.0030303  0.0030303\n",
      " 0.0030303  0.0030303  0.27575758 0.0030303  0.0030303  0.0030303\n",
      " 0.0030303  0.0030303  0.0030303  0.0030303  0.0030303  0.0030303\n",
      " 0.0030303  0.0030303  0.0030303  0.03333333 0.0030303  0.0030303\n",
      " 0.0030303  0.0030303  0.0030303  0.0030303  0.0030303  0.0030303\n",
      " 0.27575758 0.0030303  0.12424242 0.0030303  0.0030303  0.0030303\n",
      " 0.0030303  0.0030303  0.0030303  0.0030303  0.0030303  0.0030303\n",
      " 0.0030303  0.0030303  0.0030303  0.0030303  0.0030303  0.0030303\n",
      " 0.0030303  0.0030303  0.0030303  0.0030303  0.0030303  0.0030303\n",
      " 0.0030303  0.0030303  0.0030303  0.03333333 0.0030303  0.0030303 ]\n",
      "doc:3topic:8\n",
      "[0.00277778 0.00277778 0.00277778 0.00277778 0.00277778 0.00277778\n",
      " 0.00277778 0.00277778 0.36388889 0.00277778 0.03055556 0.14166667\n",
      " 0.00277778 0.00277778 0.00277778 0.00277778 0.00277778 0.00277778\n",
      " 0.00277778 0.00277778 0.00277778 0.00277778 0.00277778 0.00277778\n",
      " 0.00277778 0.00277778 0.00277778 0.00277778 0.00277778 0.00277778\n",
      " 0.16944444 0.00277778 0.00277778 0.00277778 0.00277778 0.00277778\n",
      " 0.00277778 0.00277778 0.00277778 0.08611111 0.00277778 0.00277778\n",
      " 0.00277778 0.00277778 0.00277778 0.00277778 0.00277778 0.00277778\n",
      " 0.00277778 0.00277778 0.00277778 0.00277778 0.03055556 0.00277778\n",
      " 0.00277778 0.00277778 0.00277778 0.00277778 0.00277778 0.03055556]\n",
      "doc:4topic:8\n",
      "[0.00294118 0.00294118 0.00294118 0.00294118 0.00294118 0.00294118\n",
      " 0.00294118 0.00294118 0.00294118 0.00294118 0.00294118 0.00294118\n",
      " 0.00294118 0.06176471 0.00294118 0.00294118 0.00294118 0.00294118\n",
      " 0.00294118 0.00294118 0.00294118 0.00294118 0.00294118 0.00294118\n",
      " 0.00294118 0.00294118 0.00294118 0.00294118 0.00294118 0.09117647\n",
      " 0.00294118 0.00294118 0.00294118 0.00294118 0.03235294 0.00294118\n",
      " 0.00294118 0.00294118 0.00294118 0.00294118 0.00294118 0.00294118\n",
      " 0.00294118 0.00294118 0.09117647 0.06176471 0.00294118 0.00294118\n",
      " 0.00294118 0.00294118 0.00294118 0.47352941 0.00294118 0.00294118\n",
      " 0.00294118 0.00294118 0.00294118 0.00294118 0.03235294 0.00294118]\n",
      "doc:5topic:51\n",
      "[0.00322581 0.19677419 0.00322581 0.00322581 0.00322581 0.00322581\n",
      " 0.00322581 0.00322581 0.03548387 0.00322581 0.00322581 0.00322581\n",
      " 0.00322581 0.00322581 0.00322581 0.00322581 0.00322581 0.03548387\n",
      " 0.00322581 0.00322581 0.00322581 0.00322581 0.00322581 0.00322581\n",
      " 0.00322581 0.26129032 0.00322581 0.00322581 0.00322581 0.00322581\n",
      " 0.00322581 0.00322581 0.00322581 0.00322581 0.00322581 0.00322581\n",
      " 0.00322581 0.00322581 0.00322581 0.00322581 0.00322581 0.00322581\n",
      " 0.00322581 0.00322581 0.00322581 0.13225806 0.00322581 0.00322581\n",
      " 0.00322581 0.03548387 0.00322581 0.00322581 0.00322581 0.13225806\n",
      " 0.00322581 0.00322581 0.00322581 0.00322581 0.00322581 0.00322581]\n",
      "doc:6topic:25\n",
      "[0.00285714 0.00285714 0.00285714 0.00285714 0.00285714 0.00285714\n",
      " 0.03142857 0.00285714 0.00285714 0.00285714 0.00285714 0.00285714\n",
      " 0.00285714 0.00285714 0.00285714 0.00285714 0.00285714 0.00285714\n",
      " 0.00285714 0.00285714 0.00285714 0.00285714 0.40285714 0.00285714\n",
      " 0.00285714 0.00285714 0.00285714 0.00285714 0.00285714 0.00285714\n",
      " 0.26       0.00285714 0.00285714 0.00285714 0.00285714 0.00285714\n",
      " 0.00285714 0.00285714 0.00285714 0.00285714 0.00285714 0.00285714\n",
      " 0.00285714 0.00285714 0.00285714 0.00285714 0.00285714 0.00285714\n",
      " 0.00285714 0.00285714 0.00285714 0.14571429 0.00285714 0.00285714\n",
      " 0.00285714 0.00285714 0.00285714 0.00285714 0.00285714 0.00285714]\n",
      "doc:7topic:22\n",
      "[0.003125 0.003125 0.003125 0.003125 0.003125 0.003125 0.003125 0.003125\n",
      " 0.003125 0.003125 0.003125 0.003125 0.003125 0.003125 0.003125 0.003125\n",
      " 0.003125 0.003125 0.003125 0.003125 0.003125 0.003125 0.003125 0.003125\n",
      " 0.003125 0.003125 0.003125 0.003125 0.003125 0.003125 0.003125 0.003125\n",
      " 0.003125 0.003125 0.003125 0.003125 0.003125 0.003125 0.003125 0.003125\n",
      " 0.003125 0.003125 0.003125 0.003125 0.003125 0.003125 0.003125 0.003125\n",
      " 0.003125 0.003125 0.003125 0.534375 0.003125 0.253125 0.003125 0.003125\n",
      " 0.003125 0.003125 0.003125 0.034375]\n",
      "doc:8topic:51\n",
      "[0.00277778 0.00277778 0.00277778 0.00277778 0.00277778 0.00277778\n",
      " 0.00277778 0.00277778 0.00277778 0.00277778 0.00277778 0.19722222\n",
      " 0.00277778 0.00277778 0.00277778 0.00277778 0.00277778 0.00277778\n",
      " 0.00277778 0.00277778 0.00277778 0.00277778 0.00277778 0.00277778\n",
      " 0.00277778 0.00277778 0.00277778 0.00277778 0.00277778 0.00277778\n",
      " 0.00277778 0.00277778 0.00277778 0.00277778 0.00277778 0.00277778\n",
      " 0.00277778 0.00277778 0.00277778 0.00277778 0.00277778 0.00277778\n",
      " 0.00277778 0.00277778 0.00277778 0.00277778 0.00277778 0.00277778\n",
      " 0.00277778 0.00277778 0.00277778 0.39166667 0.00277778 0.25277778\n",
      " 0.00277778 0.00277778 0.00277778 0.00277778 0.00277778 0.00277778]\n",
      "doc:9topic:51\n",
      "[15, 22, 30, 8, 8, 51, 25, 22, 51, 51]\n"
     ]
    }
   ],
   "source": [
    "'''判断文本的主题概率，为每个文本打上主题标签'''\n",
    "doc_topic = model.doc_topic_\n",
    "print(\"type(doc_topic):{}\".format(type(doc_topic)))\n",
    "print(\"shape:{}\".format(doc_topic.shape))\n",
    "label = []\n",
    "for i in range(10):\n",
    "    print(doc_topic[i])\n",
    "    topic_most_pr = doc_topic[i].argmax()\n",
    "    label.append(topic_most_pr)\n",
    "    print(\"doc:{}topic:{}\".format(i,topic_most_pr))\n",
    "    \n",
    "print(label)"
   ]
  },
  {
   "cell_type": "code",
   "execution_count": 23,
   "metadata": {},
   "outputs": [],
   "source": [
    "doc_topic = doc_topic.tolist()\n",
    "# with open('topic_distribution.json','w') as j:\n",
    "#     json.dump(doc_topic,j)"
   ]
  },
  {
   "cell_type": "code",
   "execution_count": 24,
   "metadata": {},
   "outputs": [
    {
     "data": {
      "text/plain": [
       "123287"
      ]
     },
     "execution_count": 24,
     "metadata": {},
     "output_type": "execute_result"
    }
   ],
   "source": [
    "len(doc_topic)"
   ]
  },
  {
   "cell_type": "code",
   "execution_count": 25,
   "metadata": {},
   "outputs": [
    {
     "data": {
      "text/plain": [
       "60"
      ]
     },
     "execution_count": 25,
     "metadata": {},
     "output_type": "execute_result"
    }
   ],
   "source": [
    "len(doc_topic[0])"
   ]
  },
  {
   "cell_type": "code",
   "execution_count": 27,
   "metadata": {},
   "outputs": [],
   "source": [
    "# import json\n",
    "\n",
    "# with open('topic_distribution.json','r') as j:\n",
    "#     doc_topic = json.load(j)\n"
   ]
  },
  {
   "cell_type": "code",
   "execution_count": null,
   "metadata": {},
   "outputs": [],
   "source": []
  },
  {
   "cell_type": "code",
   "execution_count": 26,
   "metadata": {},
   "outputs": [],
   "source": [
    "max_top = []\n",
    "for i in doc_topic:\n",
    "    m = i.index(max(i))\n",
    "    max_top.append(m)\n"
   ]
  },
  {
   "cell_type": "code",
   "execution_count": 29,
   "metadata": {},
   "outputs": [],
   "source": [
    "#max_top"
   ]
  },
  {
   "cell_type": "code",
   "execution_count": 30,
   "metadata": {},
   "outputs": [],
   "source": [
    "dname = []\n",
    "\n",
    "for i in image_name:\n",
    "    i = i.split('_')[2]\n",
    "    i = int(i.lstrip(\"0\").split('.')[0])\n",
    "    dname.append(i)"
   ]
  },
  {
   "cell_type": "code",
   "execution_count": 31,
   "metadata": {},
   "outputs": [],
   "source": [
    "# dname"
   ]
  },
  {
   "cell_type": "code",
   "execution_count": 32,
   "metadata": {},
   "outputs": [],
   "source": [
    "name_top = {}\n",
    "name_top_word = {}\n",
    "\n",
    "for n,i in enumerate(dname):\n",
    "    \n",
    "    name_top[i] = max_top[n]\n",
    "    name_top_word[i] = word_20[max_top[n]]"
   ]
  },
  {
   "cell_type": "code",
   "execution_count": 33,
   "metadata": {},
   "outputs": [
    {
     "data": {
      "text/plain": [
       "'数据结构：{image_name:top_1_topic}'"
      ]
     },
     "execution_count": 33,
     "metadata": {},
     "output_type": "execute_result"
    }
   ],
   "source": [
    "\"\"\"数据结构：{image_name:top_1_topic}\"\"\"\n",
    "\n",
    "# name_top"
   ]
  },
  {
   "cell_type": "code",
   "execution_count": 34,
   "metadata": {},
   "outputs": [],
   "source": [
    "with open('top_1_topic_class.json','w') as j:\n",
    "    json.dump(name_top,j)\n",
    "    \n",
    "with open('top_1_topic_word.json','w') as j:\n",
    "    json.dump(name_top_word,j)"
   ]
  },
  {
   "cell_type": "code",
   "execution_count": 37,
   "metadata": {},
   "outputs": [
    {
     "data": {
      "text/plain": [
       "123287"
      ]
     },
     "execution_count": 37,
     "metadata": {},
     "output_type": "execute_result"
    }
   ],
   "source": [
    "len(name_top_word)"
   ]
  },
  {
   "cell_type": "code",
   "execution_count": 2,
   "metadata": {},
   "outputs": [],
   "source": [
    "import os\n",
    "import numpy as np\n",
    "import h5py\n",
    "import json\n",
    "import torch\n",
    "from tqdm import tqdm\n",
    "from collections import Counter\n",
    "from random import seed, choice, sample\n",
    "import pickle\n",
    "\n",
    "output_folder = \"/home/why/image-captioning-bottom-up-top-down/other_dataset/\"\n",
    "\n",
    "\n",
    "with open('/home/why/data/caption/dataset_coco.json', 'r') as j:\n",
    "    data = json.load(j)\n",
    "    \n",
    "with open(\"/home/why/image-captioning-bottom-up-top-down/other_dataset/WORDMAP_coco_5_cap_per_img_5_min_word_freq.json\", 'r') as j:\n",
    "    word_map = json.load(j)\n",
    "    \n",
    "with open(\"data/top_1_topic_class.json\", 'r') as j:\n",
    "    image_topclass= json.load(j)\n",
    "    \n",
    "with open(\"data/top_1_topic_word.json\", 'r') as j:\n",
    "    image_topword= json.load(j)\n",
    "\n"
   ]
  },
  {
   "cell_type": "code",
   "execution_count": 4,
   "metadata": {},
   "outputs": [],
   "source": [
    "train_topic = []\n",
    "val_topic = []\n",
    "test_topic = []\n",
    "\n",
    "train_topic_word = []\n",
    "val_topic_word = []\n",
    "test_topic_word = []\n",
    "test_name = []\n",
    "\n",
    "\n",
    "len_data = len(data['images'])\n",
    "for num, img in enumerate(data['images']):\n",
    "    \n",
    "    image_id = img['filename'].split('_')[2]\n",
    "    image_id = int(image_id.lstrip(\"0\").split('.')[0])\n",
    "\n",
    "    if img['split'] in {'train', 'restval'}:\n",
    "        \n",
    "        top_class = image_topclass[str(image_id)]\n",
    "        word = image_topword[str(image_id)]\n",
    "        word = word.split(' ')\n",
    "        enc_w = [word_map.get(word, word_map['<unk>']) for word in word]\n",
    "        \n",
    "        train_topic.append(top_class)\n",
    "        train_topic_word.append(enc_w)\n",
    "\n",
    "    elif img['split'] in {'val'}:\n",
    "        \n",
    "        top_class = image_topclass[str(image_id)]\n",
    "        word = image_topword[str(image_id)]\n",
    "        word = word.split(' ')\n",
    "        enc_w = [word_map.get(word, word_map['<unk>']) for word in word]\n",
    "        \n",
    "        val_topic.append(top_class)\n",
    "        val_topic_word.append(enc_w)\n",
    "  \n",
    "    elif img['split'] in {'test'}:\n",
    "        top_class = image_topclass[str(image_id)]\n",
    "        word = image_topword[str(image_id)]\n",
    "        word = word.split(' ')\n",
    "        enc_w = [word_map.get(word, word_map['<unk>']) for word in word]\n",
    "        \n",
    "        \n",
    "        test_name.append(image_id)\n",
    "        test_topic.append(top_class)\n",
    "        test_topic_word.append(enc_w)\n",
    " "
   ]
  },
  {
   "cell_type": "code",
   "execution_count": 5,
   "metadata": {},
   "outputs": [],
   "source": [
    "with open('TEST_NAME.json', 'w') as j:\n",
    "    json.dump(test_name, j)"
   ]
  },
  {
   "cell_type": "code",
   "execution_count": null,
   "metadata": {},
   "outputs": [],
   "source": []
  },
  {
   "cell_type": "code",
   "execution_count": null,
   "metadata": {},
   "outputs": [],
   "source": []
  },
  {
   "cell_type": "code",
   "execution_count": 40,
   "metadata": {},
   "outputs": [],
   "source": [
    "with open('TRAIN_1_TOPIC_CLASS.json', 'w') as j:\n",
    "    json.dump(train_topic, j)\n",
    "\n",
    "with open('VAL_1_TOPIC_CLASS.json', 'w') as j:\n",
    "    json.dump(val_topic, j)\n",
    "    \n",
    "with open('TEST_1_TOPIC_CLASS.json', 'w') as j:\n",
    "    json.dump(test_topic, j)\n",
    "\n",
    "\n",
    "with open('TRAIN_1_TOPIC_WORD.json', 'w') as j:\n",
    "    json.dump(train_topic_word, j)\n",
    "\n",
    "with open('VAL_1_TOPIC_WORD.json', 'w') as j:\n",
    "    json.dump(val_topic_word, j)\n",
    "    \n",
    "with open('TEST_1_TOPIC_WORD.json', 'w') as j:\n",
    "    json.dump(test_topic_word, j)\n"
   ]
  },
  {
   "cell_type": "code",
   "execution_count": null,
   "metadata": {},
   "outputs": [],
   "source": []
  },
  {
   "cell_type": "code",
   "execution_count": 41,
   "metadata": {},
   "outputs": [],
   "source": [
    "topic_class = []\n",
    "\n",
    "topic_word = []\n",
    "\n",
    "\n",
    "\n",
    "len_data = len(data['images'])\n",
    "for num, img in enumerate(data['images']):\n",
    "    \n",
    "    image_id = img['filename'].split('_')[2]\n",
    "    image_id = int(image_id.lstrip(\"0\").split('.')[0])\n",
    "\n",
    "    top_class = image_topclass[str(image_id)]\n",
    "    word = image_topword[str(image_id)]\n",
    "    word = word.split(' ')\n",
    "    enc_w = [word_map.get(word, word_map['<unk>']) for word in word]\n",
    "\n",
    "    topic_class.append(top_class)\n",
    "    topic_word.append(enc_w)\n"
   ]
  },
  {
   "cell_type": "code",
   "execution_count": 43,
   "metadata": {},
   "outputs": [],
   "source": [
    "with open('TOPIC_1_CLASS.json', 'w') as j:\n",
    "    json.dump(topic_class, j)\n",
    "\n",
    "\n",
    "with open('TOPIC_1_WORD.json', 'w') as j:\n",
    "    json.dump(topic_word, j)\n"
   ]
  },
  {
   "cell_type": "code",
   "execution_count": null,
   "metadata": {},
   "outputs": [],
   "source": []
  }
 ],
 "metadata": {
  "kernelspec": {
   "display_name": "Python 3",
   "language": "python",
   "name": "python3"
  },
  "language_info": {
   "codemirror_mode": {
    "name": "ipython",
    "version": 3
   },
   "file_extension": ".py",
   "mimetype": "text/x-python",
   "name": "python",
   "nbconvert_exporter": "python",
   "pygments_lexer": "ipython3",
   "version": "3.6.8"
  }
 },
 "nbformat": 4,
 "nbformat_minor": 2
}
